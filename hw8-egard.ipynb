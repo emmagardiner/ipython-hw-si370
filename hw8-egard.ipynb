{
 "cells": [
  {
   "cell_type": "markdown",
   "metadata": {},
   "source": [
    "# HW 8: Dimensionality Reduction"
   ]
  },
  {
   "cell_type": "code",
   "execution_count": 13,
   "metadata": {
    "collapsed": true
   },
   "outputs": [],
   "source": [
    "import numpy as np\n",
    "import pandas as pd\n",
    "import scipy as sp\n",
    "import sklearn as sk\n",
    "import sklearn.cluster as skc\n",
    "import sklearn.decomposition as skd\n",
    "import sklearn.manifold as skm\n",
    "import sklearn.preprocessing as skp\n",
    "import matplotlib.pyplot as plt\n",
    "%matplotlib inline\n",
    "import seaborn as sns\n",
    "sns.set(style='white', color_codes=True, font_scale=1.3)"
   ]
  },
  {
   "cell_type": "code",
   "execution_count": 14,
   "metadata": {
    "collapsed": true
   },
   "outputs": [],
   "source": [
    "import warnings\n",
    "warnings.filterwarnings('ignore', lineno=590)"
   ]
  },
  {
   "cell_type": "code",
   "execution_count": 15,
   "metadata": {
    "collapsed": false
   },
   "outputs": [
    {
     "data": {
      "text/html": [
       "<div>\n",
       "<table border=\"1\" class=\"dataframe\">\n",
       "  <thead>\n",
       "    <tr style=\"text-align: right;\">\n",
       "      <th></th>\n",
       "      <th>R</th>\n",
       "      <th>Age</th>\n",
       "      <th>Ed</th>\n",
       "      <th>Ex0</th>\n",
       "      <th>Ex1</th>\n",
       "      <th>LF</th>\n",
       "      <th>M</th>\n",
       "      <th>N</th>\n",
       "      <th>U1</th>\n",
       "      <th>U2</th>\n",
       "      <th>W</th>\n",
       "      <th>X</th>\n",
       "    </tr>\n",
       "  </thead>\n",
       "  <tbody>\n",
       "    <tr>\n",
       "      <th>0</th>\n",
       "      <td>79.1</td>\n",
       "      <td>151</td>\n",
       "      <td>91</td>\n",
       "      <td>58</td>\n",
       "      <td>56</td>\n",
       "      <td>510</td>\n",
       "      <td>950</td>\n",
       "      <td>33</td>\n",
       "      <td>108</td>\n",
       "      <td>41</td>\n",
       "      <td>394</td>\n",
       "      <td>261</td>\n",
       "    </tr>\n",
       "    <tr>\n",
       "      <th>1</th>\n",
       "      <td>163.5</td>\n",
       "      <td>143</td>\n",
       "      <td>113</td>\n",
       "      <td>103</td>\n",
       "      <td>95</td>\n",
       "      <td>583</td>\n",
       "      <td>1012</td>\n",
       "      <td>13</td>\n",
       "      <td>96</td>\n",
       "      <td>36</td>\n",
       "      <td>557</td>\n",
       "      <td>194</td>\n",
       "    </tr>\n",
       "    <tr>\n",
       "      <th>2</th>\n",
       "      <td>57.8</td>\n",
       "      <td>142</td>\n",
       "      <td>89</td>\n",
       "      <td>45</td>\n",
       "      <td>44</td>\n",
       "      <td>533</td>\n",
       "      <td>969</td>\n",
       "      <td>18</td>\n",
       "      <td>94</td>\n",
       "      <td>33</td>\n",
       "      <td>318</td>\n",
       "      <td>250</td>\n",
       "    </tr>\n",
       "    <tr>\n",
       "      <th>3</th>\n",
       "      <td>196.9</td>\n",
       "      <td>136</td>\n",
       "      <td>121</td>\n",
       "      <td>149</td>\n",
       "      <td>141</td>\n",
       "      <td>577</td>\n",
       "      <td>994</td>\n",
       "      <td>157</td>\n",
       "      <td>102</td>\n",
       "      <td>39</td>\n",
       "      <td>673</td>\n",
       "      <td>167</td>\n",
       "    </tr>\n",
       "    <tr>\n",
       "      <th>4</th>\n",
       "      <td>123.4</td>\n",
       "      <td>141</td>\n",
       "      <td>121</td>\n",
       "      <td>109</td>\n",
       "      <td>101</td>\n",
       "      <td>591</td>\n",
       "      <td>985</td>\n",
       "      <td>18</td>\n",
       "      <td>91</td>\n",
       "      <td>20</td>\n",
       "      <td>578</td>\n",
       "      <td>174</td>\n",
       "    </tr>\n",
       "  </tbody>\n",
       "</table>\n",
       "</div>"
      ],
      "text/plain": [
       "       R  Age   Ed  Ex0  Ex1   LF     M    N   U1  U2    W    X\n",
       "0   79.1  151   91   58   56  510   950   33  108  41  394  261\n",
       "1  163.5  143  113  103   95  583  1012   13   96  36  557  194\n",
       "2   57.8  142   89   45   44  533   969   18   94  33  318  250\n",
       "3  196.9  136  121  149  141  577   994  157  102  39  673  167\n",
       "4  123.4  141  121  109  101  591   985   18   91  20  578  174"
      ]
     },
     "execution_count": 15,
     "metadata": {},
     "output_type": "execute_result"
    }
   ],
   "source": [
    "df = pd.read_csv('uscrime.csv')\n",
    "df.head()"
   ]
  },
  {
   "cell_type": "markdown",
   "metadata": {},
   "source": [
    "(b) Draw three 2-D scatterplots to visualize the dataset by using the following dimensionality reduction methods respectively. Prior to these analyses, you should normalize the data properly"
   ]
  },
  {
   "cell_type": "code",
   "execution_count": 17,
   "metadata": {
    "collapsed": false
   },
   "outputs": [
    {
     "data": {
      "text/html": [
       "<div>\n",
       "<table border=\"1\" class=\"dataframe\">\n",
       "  <thead>\n",
       "    <tr style=\"text-align: right;\">\n",
       "      <th></th>\n",
       "      <th>R</th>\n",
       "      <th>Age</th>\n",
       "      <th>Ed</th>\n",
       "      <th>Ex0</th>\n",
       "      <th>Ex1</th>\n",
       "      <th>LF</th>\n",
       "      <th>M</th>\n",
       "      <th>N</th>\n",
       "      <th>U1</th>\n",
       "      <th>U2</th>\n",
       "      <th>W</th>\n",
       "      <th>X</th>\n",
       "    </tr>\n",
       "  </thead>\n",
       "  <tbody>\n",
       "    <tr>\n",
       "      <th>0</th>\n",
       "      <td>-0.298163</td>\n",
       "      <td>0.999382</td>\n",
       "      <td>-1.322656</td>\n",
       "      <td>-0.918333</td>\n",
       "      <td>-0.876069</td>\n",
       "      <td>-1.280441</td>\n",
       "      <td>-1.132720</td>\n",
       "      <td>-0.096034</td>\n",
       "      <td>0.702621</td>\n",
       "      <td>0.840356</td>\n",
       "      <td>-1.376330</td>\n",
       "      <td>1.697520</td>\n",
       "    </tr>\n",
       "    <tr>\n",
       "      <th>1</th>\n",
       "      <td>1.907645</td>\n",
       "      <td>0.355944</td>\n",
       "      <td>0.665173</td>\n",
       "      <td>0.612222</td>\n",
       "      <td>0.533794</td>\n",
       "      <td>0.545491</td>\n",
       "      <td>0.994049</td>\n",
       "      <td>-0.627045</td>\n",
       "      <td>0.029823</td>\n",
       "      <td>0.241921</td>\n",
       "      <td>0.331211</td>\n",
       "      <td>0.000000</td>\n",
       "    </tr>\n",
       "    <tr>\n",
       "      <th>2</th>\n",
       "      <td>-0.854843</td>\n",
       "      <td>0.275515</td>\n",
       "      <td>-1.503368</td>\n",
       "      <td>-1.360493</td>\n",
       "      <td>-1.309873</td>\n",
       "      <td>-0.705147</td>\n",
       "      <td>-0.480968</td>\n",
       "      <td>-0.494292</td>\n",
       "      <td>-0.082310</td>\n",
       "      <td>-0.117141</td>\n",
       "      <td>-2.172484</td>\n",
       "      <td>1.418822</td>\n",
       "    </tr>\n",
       "    <tr>\n",
       "      <th>3</th>\n",
       "      <td>2.780560</td>\n",
       "      <td>-0.207064</td>\n",
       "      <td>1.388020</td>\n",
       "      <td>2.176788</td>\n",
       "      <td>2.196710</td>\n",
       "      <td>0.395415</td>\n",
       "      <td>0.376600</td>\n",
       "      <td>3.196235</td>\n",
       "      <td>0.366222</td>\n",
       "      <td>0.600982</td>\n",
       "      <td>1.546393</td>\n",
       "      <td>-0.684075</td>\n",
       "    </tr>\n",
       "    <tr>\n",
       "      <th>4</th>\n",
       "      <td>0.859625</td>\n",
       "      <td>0.195085</td>\n",
       "      <td>1.388020</td>\n",
       "      <td>0.816296</td>\n",
       "      <td>0.750696</td>\n",
       "      <td>0.745593</td>\n",
       "      <td>0.067876</td>\n",
       "      <td>-0.494292</td>\n",
       "      <td>-0.250510</td>\n",
       "      <td>-1.673072</td>\n",
       "      <td>0.551201</td>\n",
       "      <td>-0.506722</td>\n",
       "    </tr>\n",
       "  </tbody>\n",
       "</table>\n",
       "</div>"
      ],
      "text/plain": [
       "          R       Age        Ed       Ex0       Ex1        LF         M  \\\n",
       "0 -0.298163  0.999382 -1.322656 -0.918333 -0.876069 -1.280441 -1.132720   \n",
       "1  1.907645  0.355944  0.665173  0.612222  0.533794  0.545491  0.994049   \n",
       "2 -0.854843  0.275515 -1.503368 -1.360493 -1.309873 -0.705147 -0.480968   \n",
       "3  2.780560 -0.207064  1.388020  2.176788  2.196710  0.395415  0.376600   \n",
       "4  0.859625  0.195085  1.388020  0.816296  0.750696  0.745593  0.067876   \n",
       "\n",
       "          N        U1        U2         W         X  \n",
       "0 -0.096034  0.702621  0.840356 -1.376330  1.697520  \n",
       "1 -0.627045  0.029823  0.241921  0.331211  0.000000  \n",
       "2 -0.494292 -0.082310 -0.117141 -2.172484  1.418822  \n",
       "3  3.196235  0.366222  0.600982  1.546393 -0.684075  \n",
       "4 -0.494292 -0.250510 -1.673072  0.551201 -0.506722  "
      ]
     },
     "execution_count": 17,
     "metadata": {},
     "output_type": "execute_result"
    }
   ],
   "source": [
    "import sklearn.preprocessing as skp\n",
    "\n",
    "df_norm = df.copy()\n",
    "df_norm[:] = skp.scale(df, axis=0, with_mean=True, with_std=True, copy=True)\n",
    "df_norm.head()"
   ]
  },
  {
   "cell_type": "markdown",
   "metadata": {},
   "source": [
    "(b)-1: PCA"
   ]
  },
  {
   "cell_type": "code",
   "execution_count": 35,
   "metadata": {
    "collapsed": true
   },
   "outputs": [],
   "source": [
    "pca_model = skd.PCA().fit(df_norm)"
   ]
  },
  {
   "cell_type": "code",
   "execution_count": 38,
   "metadata": {
    "collapsed": false
   },
   "outputs": [
    {
     "data": {
      "text/plain": [
       "(12, 12)"
      ]
     },
     "execution_count": 38,
     "metadata": {},
     "output_type": "execute_result"
    }
   ],
   "source": [
    "pca_model.components_.shape"
   ]
  },
  {
   "cell_type": "code",
   "execution_count": 19,
   "metadata": {
    "collapsed": false
   },
   "outputs": [
    {
     "data": {
      "text/plain": [
       "array([ 4.96973481,  2.33180137,  1.83004456,  1.21307784,  0.60383795,\n",
       "        0.31920199,  0.2449876 ,  0.22096815,  0.12832731,  0.07693884,\n",
       "        0.0559042 ,  0.00517538])"
      ]
     },
     "execution_count": 19,
     "metadata": {},
     "output_type": "execute_result"
    }
   ],
   "source": [
    "pca_model.explained_variance_"
   ]
  },
  {
   "cell_type": "code",
   "execution_count": 45,
   "metadata": {
    "collapsed": false
   },
   "outputs": [
    {
     "data": {
      "image/png": "[encoded data removed]",
      "text/plain": [
       "<matplotlib.figure.Figure at 0x10ace2e48>"
      ]
     },
     "metadata": {},
     "output_type": "display_data"
    }
   ],
   "source": [
    "# Scatterplot of disaggregated data\n",
    "X = pca_model.transform(df_norm.ix[:,:12])\n",
    "plt.figure(figsize=(8,6))\n",
    "plt.scatter(X[:,0], X[:,1])\n",
    "plt.xlabel('PC1')\n",
    "plt.ylabel('PC2')\n",
    "plt.title('PCA Biplot')\n",
    "plt.ylim(-4, 6)\n",
    "\n",
    "# Add variable unit vector projections\n",
    "V = pca_model.transform(np.identity(X.shape[1]))\n",
    "for i, v in enumerate(V):\n",
    "    plt.annotate(df_norm.columns[i], \n",
    "                 xy=(0,0), xytext=v[:2]*10, \n",
    "                 fontsize=13, color='orange',\n",
    "                 arrowprops=dict(\n",
    "                    arrowstyle='<-', linewidth=2, color='orange'))"
   ]
  },
  {
   "cell_type": "markdown",
   "metadata": {},
   "source": [
    "(b)-2: Isomap"
   ]
  },
  {
   "cell_type": "code",
   "execution_count": 105,
   "metadata": {
    "collapsed": false
   },
   "outputs": [
    {
     "data": {
      "image/png": "[encoded data removed]",
      "text/plain": [
       "<matplotlib.figure.Figure at 0x10e2b5978>"
      ]
     },
     "metadata": {},
     "output_type": "display_data"
    }
   ],
   "source": [
    "X = skm.Isomap().fit_transform(df_norm)\n",
    "plt.scatter(X[:,0],X[:,1],s=50)\n",
    "\n",
    "plt.title('ISOMap')\n",
    "\n",
    "for i, s in enumerate(df_norm.index):\n",
    "    plt.annotate(s, xy=X[i,:2]+0.05, fontsize=15)"
   ]
  },
  {
   "cell_type": "markdown",
   "metadata": {},
   "source": [
    "(b)-3: MDS"
   ]
  },
  {
   "cell_type": "code",
   "execution_count": 95,
   "metadata": {
    "collapsed": false
   },
   "outputs": [
    {
     "data": {
      "image/png": "[encoded data removed]",
      "text/plain": [
       "<matplotlib.figure.Figure at 0x10d6ac320>"
      ]
     },
     "metadata": {},
     "output_type": "display_data"
    }
   ],
   "source": [
    "X = skm.MDS(n_components=2).fit_transform(df_norm)\n",
    "plt.scatter(X[:,0],X[:,1],s=50)\n",
    "\n",
    "plt.xlabel('MDS1')\n",
    "plt.ylabel('MDS2')\n",
    "plt.title('MDS')\n",
    "\n",
    "for i, s in enumerate(df_norm.index):\n",
    "    plt.annotate(s, xy=X[i,:2]+0.05, fontsize=15)"
   ]
  },
  {
   "cell_type": "markdown",
   "metadata": {},
   "source": [
    "(b)-4: t-SNE"
   ]
  },
  {
   "cell_type": "code",
   "execution_count": 93,
   "metadata": {
    "collapsed": false
   },
   "outputs": [
    {
     "data": {
      "image/png": "[encoded data removed]",
      "text/plain": [
       "<matplotlib.figure.Figure at 0x10b6f2710>"
      ]
     },
     "metadata": {},
     "output_type": "display_data"
    }
   ],
   "source": [
    "X = skm.TSNE(learning_rate=100).fit_transform(df_norm)\n",
    "plt.scatter(X[:,0],X[:,1],s=50)\n",
    "\n",
    "plt.title('t-SNE')\n",
    "\n",
    "for i, s in enumerate(df_norm.index):\n",
    "    plt.annotate(s, xy=X[i,:2]+0.05, fontsize=15)"
   ]
  },
  {
   "cell_type": "markdown",
   "metadata": {},
   "source": [
    "(c) Perform PCA with scaling, and answer the questions:"
   ]
  },
  {
   "cell_type": "markdown",
   "metadata": {},
   "source": [
    "(PCA with scaling executed earlier in the homework.)"
   ]
  },
  {
   "cell_type": "markdown",
   "metadata": {},
   "source": [
    "(c)-1: How many principle components are there in total?"
   ]
  },
  {
   "cell_type": "code",
   "execution_count": 106,
   "metadata": {
    "collapsed": true
   },
   "outputs": [],
   "source": [
    "pca_model = skd.PCA().fit(df_norm)"
   ]
  },
  {
   "cell_type": "code",
   "execution_count": 107,
   "metadata": {
    "collapsed": false
   },
   "outputs": [
    {
     "data": {
      "text/plain": [
       "(12, 12)"
      ]
     },
     "execution_count": 107,
     "metadata": {},
     "output_type": "execute_result"
    }
   ],
   "source": [
    "pca_model.components_.shape"
   ]
  },
  {
   "cell_type": "markdown",
   "metadata": {},
   "source": [
    "There are 12 principle components"
   ]
  },
  {
   "cell_type": "markdown",
   "metadata": {},
   "source": [
    "(c-2) What are the variances explained by each principal component?"
   ]
  },
  {
   "cell_type": "code",
   "execution_count": 108,
   "metadata": {
    "collapsed": false
   },
   "outputs": [
    {
     "data": {
      "text/plain": [
       "array([ 4.96973481,  2.33180137,  1.83004456,  1.21307784,  0.60383795,\n",
       "        0.31920199,  0.2449876 ,  0.22096815,  0.12832731,  0.07693884,\n",
       "        0.0559042 ,  0.00517538])"
      ]
     },
     "execution_count": 108,
     "metadata": {},
     "output_type": "execute_result"
    }
   ],
   "source": [
    "pca_model.explained_variance_"
   ]
  },
  {
   "cell_type": "markdown",
   "metadata": {},
   "source": [
    "(c-3) How many principal components explain an amount of variance that is greater than 1? You should be able to get this number programmatically (instead of counting manually)."
   ]
  },
  {
   "cell_type": "code",
   "execution_count": 109,
   "metadata": {
    "collapsed": false
   },
   "outputs": [
    {
     "data": {
      "text/plain": [
       "array([ True,  True,  True,  True, False, False, False, False, False,\n",
       "       False, False, False], dtype=bool)"
      ]
     },
     "execution_count": 109,
     "metadata": {},
     "output_type": "execute_result"
    }
   ],
   "source": [
    "pca_gr1 = pca_model.explained_variance_ > 1\n",
    "pca_gr1"
   ]
  },
  {
   "cell_type": "markdown",
   "metadata": {},
   "source": [
    "There are 4 principle components with variance greater than 1."
   ]
  },
  {
   "cell_type": "markdown",
   "metadata": {},
   "source": [
    "(c-4) Show these principal components as vectors. You should be able to generate a matrix as follows."
   ]
  },
  {
   "cell_type": "code",
   "execution_count": 110,
   "metadata": {
    "collapsed": false
   },
   "outputs": [
    {
     "data": {
      "text/html": [
       "<div>\n",
       "<table border=\"1\" class=\"dataframe\">\n",
       "  <thead>\n",
       "    <tr style=\"text-align: right;\">\n",
       "      <th></th>\n",
       "      <th>PC1</th>\n",
       "      <th>PC2</th>\n",
       "      <th>PC3</th>\n",
       "      <th>PC4</th>\n",
       "    </tr>\n",
       "  </thead>\n",
       "  <tbody>\n",
       "    <tr>\n",
       "      <th>R</th>\n",
       "      <td>0.266860</td>\n",
       "      <td>0.086739</td>\n",
       "      <td>-0.116822</td>\n",
       "      <td>0.646893</td>\n",
       "    </tr>\n",
       "    <tr>\n",
       "      <th>Age</th>\n",
       "      <td>-0.311629</td>\n",
       "      <td>-0.071419</td>\n",
       "      <td>-0.160223</td>\n",
       "      <td>0.439389</td>\n",
       "    </tr>\n",
       "    <tr>\n",
       "      <th>Ed</th>\n",
       "      <td>0.342421</td>\n",
       "      <td>-0.324221</td>\n",
       "      <td>0.109941</td>\n",
       "      <td>-0.102357</td>\n",
       "    </tr>\n",
       "    <tr>\n",
       "      <th>Ex0</th>\n",
       "      <td>0.403934</td>\n",
       "      <td>0.156912</td>\n",
       "      <td>-0.152719</td>\n",
       "      <td>0.157916</td>\n",
       "    </tr>\n",
       "    <tr>\n",
       "      <th>Ex1</th>\n",
       "      <td>0.404971</td>\n",
       "      <td>0.151668</td>\n",
       "      <td>-0.156180</td>\n",
       "      <td>0.129160</td>\n",
       "    </tr>\n",
       "    <tr>\n",
       "      <th>LF</th>\n",
       "      <td>0.152985</td>\n",
       "      <td>-0.489833</td>\n",
       "      <td>-0.002056</td>\n",
       "      <td>0.162141</td>\n",
       "    </tr>\n",
       "    <tr>\n",
       "      <th>M</th>\n",
       "      <td>0.097777</td>\n",
       "      <td>-0.355583</td>\n",
       "      <td>0.453042</td>\n",
       "      <td>0.390083</td>\n",
       "    </tr>\n",
       "    <tr>\n",
       "      <th>N</th>\n",
       "      <td>0.182596</td>\n",
       "      <td>0.391949</td>\n",
       "      <td>-0.288349</td>\n",
       "      <td>0.028383</td>\n",
       "    </tr>\n",
       "    <tr>\n",
       "      <th>U1</th>\n",
       "      <td>0.025708</td>\n",
       "      <td>0.241646</td>\n",
       "      <td>0.657893</td>\n",
       "      <td>0.025006</td>\n",
       "    </tr>\n",
       "    <tr>\n",
       "      <th>U2</th>\n",
       "      <td>0.057531</td>\n",
       "      <td>0.492167</td>\n",
       "      <td>0.416887</td>\n",
       "      <td>0.109818</td>\n",
       "    </tr>\n",
       "    <tr>\n",
       "      <th>W</th>\n",
       "      <td>0.421565</td>\n",
       "      <td>-0.030623</td>\n",
       "      <td>0.020902</td>\n",
       "      <td>-0.143578</td>\n",
       "    </tr>\n",
       "    <tr>\n",
       "      <th>X</th>\n",
       "      <td>-0.373180</td>\n",
       "      <td>0.114335</td>\n",
       "      <td>-0.073677</td>\n",
       "      <td>0.351867</td>\n",
       "    </tr>\n",
       "  </tbody>\n",
       "</table>\n",
       "</div>"
      ],
      "text/plain": [
       "          PC1       PC2       PC3       PC4\n",
       "R    0.266860  0.086739 -0.116822  0.646893\n",
       "Age -0.311629 -0.071419 -0.160223  0.439389\n",
       "Ed   0.342421 -0.324221  0.109941 -0.102357\n",
       "Ex0  0.403934  0.156912 -0.152719  0.157916\n",
       "Ex1  0.404971  0.151668 -0.156180  0.129160\n",
       "LF   0.152985 -0.489833 -0.002056  0.162141\n",
       "M    0.097777 -0.355583  0.453042  0.390083\n",
       "N    0.182596  0.391949 -0.288349  0.028383\n",
       "U1   0.025708  0.241646  0.657893  0.025006\n",
       "U2   0.057531  0.492167  0.416887  0.109818\n",
       "W    0.421565 -0.030623  0.020902 -0.143578\n",
       "X   -0.373180  0.114335 -0.073677  0.351867"
      ]
     },
     "execution_count": 110,
     "metadata": {},
     "output_type": "execute_result"
    }
   ],
   "source": [
    "pd.DataFrame(pca_model.components_[:4,:].T,\n",
    "            index=df_norm.columns, columns=['PC1','PC2','PC3','PC4'])"
   ]
  },
  {
   "cell_type": "markdown",
   "metadata": {},
   "source": [
    "(d) Draw a Scree Plot, and answer the following questions:"
   ]
  },
  {
   "cell_type": "code",
   "execution_count": 33,
   "metadata": {
    "collapsed": false
   },
   "outputs": [
    {
     "data": {
      "text/plain": [
       "<matplotlib.text.Text at 0x10b9656d8>"
      ]
     },
     "execution_count": 33,
     "metadata": {},
     "output_type": "execute_result"
    },
    {
     "data": {
      "image/png": "[encoded data removed]",
      "text/plain": [
       "<matplotlib.figure.Figure at 0x10af03fd0>"
      ]
     },
     "metadata": {},
     "output_type": "display_data"
    }
   ],
   "source": [
    "plt.plot(range(1,13), pca_model.explained_variance_, 'b-o')\n",
    "plt.title('Scree Plot')"
   ]
  },
  {
   "cell_type": "markdown",
   "metadata": {},
   "source": [
    "(d-1) What do scree plots tell you in general?\n",
    "\n",
    "A Scree Plot is a line plot that shows the fraction of total variance in the data as explained or represented by each principle component. The PCs are ordered, and by definition are therefore assigned a number label, by decreasing order of contribution to total variance. (Source: improvedoutcomes.com)"
   ]
  },
  {
   "cell_type": "markdown",
   "metadata": {},
   "source": [
    "(d-2) What can you tell about the data from this specific Scree Plot?\n",
    "\n",
    "This scree plot shows that 4 of these factors explain most of the variability because the line starts to straighten after factor 4. The remaining factors explain a very small proportion of the variability and are likely unimportant.\n",
    "\n",
    "(Source: http://support.minitab.com/en-us/minitab/17/topic-library/modeling-statistics/multivariate/principal-components-and-factor-analysis/what-is-a-scree-plot/)"
   ]
  },
  {
   "cell_type": "markdown",
   "metadata": {},
   "source": [
    "(e) Draw a biplot of the PCA results. Then answer the following questions:"
   ]
  },
  {
   "cell_type": "code",
   "execution_count": 34,
   "metadata": {
    "collapsed": false
   },
   "outputs": [
    {
     "data": {
      "image/png": "[encoded data removed]",
      "text/plain": [
       "<matplotlib.figure.Figure at 0x10b8109b0>"
      ]
     },
     "metadata": {},
     "output_type": "display_data"
    }
   ],
   "source": [
    "# Scatterplot of disaggregated data\n",
    "X = pca_model.transform(df_norm.ix[:,:13])\n",
    "plt.figure(figsize=(8,6))\n",
    "plt.scatter(X[:,0], X[:,1])\n",
    "plt.xlabel('PC1')\n",
    "plt.ylabel('PC2')\n",
    "plt.title('PCA Biplot')\n",
    "plt.ylim(-4, 6)\n",
    "\n",
    "# Add variable unit vector projections\n",
    "V = pca_model.transform(np.identity(X.shape[1]))\n",
    "for i, v in enumerate(V):\n",
    "    plt.annotate(df_norm.columns[i], \n",
    "                 xy=(0,0), xytext=v[:2]*10, \n",
    "                 fontsize=13, color='orange',\n",
    "                 arrowprops=dict(\n",
    "                    arrowstyle='<-', linewidth=2, color='orange'))"
   ]
  },
  {
   "cell_type": "markdown",
   "metadata": {},
   "source": [
    "(e-1) From the biplot, what can you say about Ex0 (1960 per capita police expenditure) and Ex1 (1959 per capita police expenditure)? Plot a scatterplot of these two variables and compute the Pearson’s correlation coefficient to justify your answer."
   ]
  },
  {
   "cell_type": "markdown",
   "metadata": {},
   "source": [
    "From the biplot it is apparent that Ex0 and Ex1 have identical or almost identical points on the plot, therefore the correlation coefficient should be close to 1."
   ]
  },
  {
   "cell_type": "code",
   "execution_count": 97,
   "metadata": {
    "collapsed": false
   },
   "outputs": [
    {
     "data": {
      "image/png": "[encoded data removed]",
      "text/plain": [
       "<matplotlib.figure.Figure at 0x10b6f2f60>"
      ]
     },
     "metadata": {},
     "output_type": "display_data"
    }
   ],
   "source": [
    "sns.lmplot(x='Ex0', y='Ex1', data=df_norm);\n",
    "plt.ylim(0, 3.5);"
   ]
  },
  {
   "cell_type": "code",
   "execution_count": 103,
   "metadata": {
    "collapsed": false
   },
   "outputs": [
    {
     "data": {
      "text/plain": [
       "0.99358648319788667"
      ]
     },
     "execution_count": 103,
     "metadata": {},
     "output_type": "execute_result"
    }
   ],
   "source": [
    "df_norm.Ex0.corr(df_norm.Ex1)"
   ]
  },
  {
   "cell_type": "markdown",
   "metadata": {},
   "source": [
    "(e-2) From the biplot, what can you say about W (median assets/income) and Age (proportion of males 14-24)? Plot a scatterplot of these two variables and compute the Pearson’s correlation coefficient to justify your answer."
   ]
  },
  {
   "cell_type": "markdown",
   "metadata": {},
   "source": [
    "From the biplot it is clear that W and Age are extremely different in terms of PC1. W is at -2 on the x-axis and Age is at 4. Therefore the correlation will be negative."
   ]
  },
  {
   "cell_type": "code",
   "execution_count": 98,
   "metadata": {
    "collapsed": false
   },
   "outputs": [
    {
     "data": {
      "image/png": "[encoded data removed]",
      "text/plain": [
       "<matplotlib.figure.Figure at 0x10d76da58>"
      ]
     },
     "metadata": {},
     "output_type": "display_data"
    }
   ],
   "source": [
    "sns.lmplot(x='W', y='Age', data=df_norm);\n",
    "plt.ylim(0, 3.5);"
   ]
  },
  {
   "cell_type": "code",
   "execution_count": 102,
   "metadata": {
    "collapsed": false
   },
   "outputs": [
    {
     "data": {
      "text/plain": [
       "-0.67005505578595193"
      ]
     },
     "execution_count": 102,
     "metadata": {},
     "output_type": "execute_result"
    }
   ],
   "source": [
    "df_norm.W.corr(df_norm.Age)"
   ]
  },
  {
   "cell_type": "markdown",
   "metadata": {},
   "source": [
    "# Q2. EFA: Managerial Skills Survey Analysis"
   ]
  },
  {
   "cell_type": "code",
   "execution_count": 49,
   "metadata": {
    "collapsed": false
   },
   "outputs": [
    {
     "data": {
      "text/html": [
       "<div>\n",
       "<table border=\"1\" class=\"dataframe\">\n",
       "  <thead>\n",
       "    <tr style=\"text-align: right;\">\n",
       "      <th></th>\n",
       "      <th>q1</th>\n",
       "      <th>q2</th>\n",
       "      <th>q3</th>\n",
       "      <th>q4</th>\n",
       "      <th>q5</th>\n",
       "      <th>q6</th>\n",
       "      <th>q7</th>\n",
       "      <th>q8</th>\n",
       "      <th>q9</th>\n",
       "      <th>q10</th>\n",
       "      <th>q11</th>\n",
       "    </tr>\n",
       "  </thead>\n",
       "  <tbody>\n",
       "    <tr>\n",
       "      <th>0</th>\n",
       "      <td>CONSIDERABLE EXTENT</td>\n",
       "      <td>CONSIDERABLE EXTENT</td>\n",
       "      <td>MODERATE EXTENT</td>\n",
       "      <td>MODERATE EXTENT</td>\n",
       "      <td>MODERATE EXTENT</td>\n",
       "      <td>SOME EXTENT</td>\n",
       "      <td>CONSIDERABLE EXTENT</td>\n",
       "      <td>SOME EXTENT</td>\n",
       "      <td>CONSIDERABLE EXTENT</td>\n",
       "      <td>MODERATE EXTENT</td>\n",
       "      <td>CONSIDERABLE EXTENT</td>\n",
       "    </tr>\n",
       "    <tr>\n",
       "      <th>1</th>\n",
       "      <td>GREAT EXTENT</td>\n",
       "      <td>MODERATE EXTENT</td>\n",
       "      <td>CONSIDERABLE EXTENT</td>\n",
       "      <td>GREAT EXTENT</td>\n",
       "      <td>CONSIDERABLE EXTENT</td>\n",
       "      <td>GREAT EXTENT</td>\n",
       "      <td>CONSIDERABLE EXTENT</td>\n",
       "      <td>GREAT EXTENT</td>\n",
       "      <td>GREAT EXTENT</td>\n",
       "      <td>GREAT EXTENT</td>\n",
       "      <td>CONSIDERABLE EXTENT</td>\n",
       "    </tr>\n",
       "    <tr>\n",
       "      <th>2</th>\n",
       "      <td>CONSIDERABLE EXTENT</td>\n",
       "      <td>GREAT EXTENT</td>\n",
       "      <td>GREAT EXTENT</td>\n",
       "      <td>TO A VERY GREAT EXTENT</td>\n",
       "      <td>TO A VERY GREAT EXTENT</td>\n",
       "      <td>TO A VERY GREAT EXTENT</td>\n",
       "      <td>GREAT EXTENT</td>\n",
       "      <td>GREAT EXTENT</td>\n",
       "      <td>CONSIDERABLE EXTENT</td>\n",
       "      <td>CONSIDERABLE EXTENT</td>\n",
       "      <td>GREAT EXTENT</td>\n",
       "    </tr>\n",
       "    <tr>\n",
       "      <th>3</th>\n",
       "      <td>CONSIDERABLE EXTENT</td>\n",
       "      <td>CONSIDERABLE EXTENT</td>\n",
       "      <td>CONSIDERABLE EXTENT</td>\n",
       "      <td>CONSIDERABLE EXTENT</td>\n",
       "      <td>CONSIDERABLE EXTENT</td>\n",
       "      <td>MODERATE EXTENT</td>\n",
       "      <td>MODERATE EXTENT</td>\n",
       "      <td>MODERATE EXTENT</td>\n",
       "      <td>CONSIDERABLE EXTENT</td>\n",
       "      <td>CONSIDERABLE EXTENT</td>\n",
       "      <td>CONSIDERABLE EXTENT</td>\n",
       "    </tr>\n",
       "    <tr>\n",
       "      <th>4</th>\n",
       "      <td>CONSIDERABLE EXTENT</td>\n",
       "      <td>CONSIDERABLE EXTENT</td>\n",
       "      <td>CONSIDERABLE EXTENT</td>\n",
       "      <td>GREAT EXTENT</td>\n",
       "      <td>CONSIDERABLE EXTENT</td>\n",
       "      <td>MODERATE EXTENT</td>\n",
       "      <td>MODERATE EXTENT</td>\n",
       "      <td>MODERATE EXTENT</td>\n",
       "      <td>SOME EXTENT</td>\n",
       "      <td>MODERATE EXTENT</td>\n",
       "      <td>SOME EXTENT</td>\n",
       "    </tr>\n",
       "  </tbody>\n",
       "</table>\n",
       "</div>"
      ],
      "text/plain": [
       "                    q1                   q2                   q3  \\\n",
       "0  CONSIDERABLE EXTENT  CONSIDERABLE EXTENT      MODERATE EXTENT   \n",
       "1         GREAT EXTENT      MODERATE EXTENT  CONSIDERABLE EXTENT   \n",
       "2  CONSIDERABLE EXTENT         GREAT EXTENT         GREAT EXTENT   \n",
       "3  CONSIDERABLE EXTENT  CONSIDERABLE EXTENT  CONSIDERABLE EXTENT   \n",
       "4  CONSIDERABLE EXTENT  CONSIDERABLE EXTENT  CONSIDERABLE EXTENT   \n",
       "\n",
       "                       q4                      q5                      q6  \\\n",
       "0         MODERATE EXTENT         MODERATE EXTENT             SOME EXTENT   \n",
       "1            GREAT EXTENT     CONSIDERABLE EXTENT            GREAT EXTENT   \n",
       "2  TO A VERY GREAT EXTENT  TO A VERY GREAT EXTENT  TO A VERY GREAT EXTENT   \n",
       "3     CONSIDERABLE EXTENT     CONSIDERABLE EXTENT         MODERATE EXTENT   \n",
       "4            GREAT EXTENT     CONSIDERABLE EXTENT         MODERATE EXTENT   \n",
       "\n",
       "                    q7               q8                   q9  \\\n",
       "0  CONSIDERABLE EXTENT      SOME EXTENT  CONSIDERABLE EXTENT   \n",
       "1  CONSIDERABLE EXTENT     GREAT EXTENT         GREAT EXTENT   \n",
       "2         GREAT EXTENT     GREAT EXTENT  CONSIDERABLE EXTENT   \n",
       "3      MODERATE EXTENT  MODERATE EXTENT  CONSIDERABLE EXTENT   \n",
       "4      MODERATE EXTENT  MODERATE EXTENT          SOME EXTENT   \n",
       "\n",
       "                   q10                  q11  \n",
       "0      MODERATE EXTENT  CONSIDERABLE EXTENT  \n",
       "1         GREAT EXTENT  CONSIDERABLE EXTENT  \n",
       "2  CONSIDERABLE EXTENT         GREAT EXTENT  \n",
       "3  CONSIDERABLE EXTENT  CONSIDERABLE EXTENT  \n",
       "4      MODERATE EXTENT          SOME EXTENT  "
      ]
     },
     "execution_count": 49,
     "metadata": {},
     "output_type": "execute_result"
    }
   ],
   "source": [
    "df_2 = pd.read_csv('manage.csv')\n",
    "df_2.head()"
   ]
  },
  {
   "cell_type": "markdown",
   "metadata": {},
   "source": [
    "(b) Convert the survey answers into numeric formats according to the following scale: \n",
    "VERY LITTLE EXTENT 1\n",
    "LITTLE EXTENT 2\n",
    "SOME EXTENT 3\n",
    "MODERATE EXTENT 4\n",
    "CONSIDERABLE EXTENT 5\n",
    "GREAT EXTENT 6\n",
    "TO A VERY GREAT EXTENT 7"
   ]
  },
  {
   "cell_type": "code",
   "execution_count": 71,
   "metadata": {
    "collapsed": false
   },
   "outputs": [
    {
     "data": {
      "text/html": [
       "<div>\n",
       "<table border=\"1\" class=\"dataframe\">\n",
       "  <thead>\n",
       "    <tr style=\"text-align: right;\">\n",
       "      <th></th>\n",
       "      <th>q1</th>\n",
       "      <th>q2</th>\n",
       "      <th>q3</th>\n",
       "      <th>q4</th>\n",
       "      <th>q5</th>\n",
       "      <th>q6</th>\n",
       "      <th>q7</th>\n",
       "      <th>q8</th>\n",
       "      <th>q9</th>\n",
       "      <th>q10</th>\n",
       "      <th>q11</th>\n",
       "    </tr>\n",
       "  </thead>\n",
       "  <tbody>\n",
       "    <tr>\n",
       "      <th>0</th>\n",
       "      <td>5</td>\n",
       "      <td>5</td>\n",
       "      <td>4</td>\n",
       "      <td>4</td>\n",
       "      <td>4</td>\n",
       "      <td>3</td>\n",
       "      <td>5</td>\n",
       "      <td>3</td>\n",
       "      <td>5</td>\n",
       "      <td>4</td>\n",
       "      <td>5</td>\n",
       "    </tr>\n",
       "    <tr>\n",
       "      <th>1</th>\n",
       "      <td>6</td>\n",
       "      <td>4</td>\n",
       "      <td>5</td>\n",
       "      <td>6</td>\n",
       "      <td>5</td>\n",
       "      <td>6</td>\n",
       "      <td>5</td>\n",
       "      <td>6</td>\n",
       "      <td>6</td>\n",
       "      <td>6</td>\n",
       "      <td>5</td>\n",
       "    </tr>\n",
       "    <tr>\n",
       "      <th>2</th>\n",
       "      <td>5</td>\n",
       "      <td>6</td>\n",
       "      <td>6</td>\n",
       "      <td>7</td>\n",
       "      <td>7</td>\n",
       "      <td>7</td>\n",
       "      <td>6</td>\n",
       "      <td>6</td>\n",
       "      <td>5</td>\n",
       "      <td>5</td>\n",
       "      <td>6</td>\n",
       "    </tr>\n",
       "    <tr>\n",
       "      <th>3</th>\n",
       "      <td>5</td>\n",
       "      <td>5</td>\n",
       "      <td>5</td>\n",
       "      <td>5</td>\n",
       "      <td>5</td>\n",
       "      <td>4</td>\n",
       "      <td>4</td>\n",
       "      <td>4</td>\n",
       "      <td>5</td>\n",
       "      <td>5</td>\n",
       "      <td>5</td>\n",
       "    </tr>\n",
       "    <tr>\n",
       "      <th>4</th>\n",
       "      <td>5</td>\n",
       "      <td>5</td>\n",
       "      <td>5</td>\n",
       "      <td>6</td>\n",
       "      <td>5</td>\n",
       "      <td>4</td>\n",
       "      <td>4</td>\n",
       "      <td>4</td>\n",
       "      <td>3</td>\n",
       "      <td>4</td>\n",
       "      <td>3</td>\n",
       "    </tr>\n",
       "  </tbody>\n",
       "</table>\n",
       "</div>"
      ],
      "text/plain": [
       "   q1  q2  q3  q4  q5  q6  q7  q8  q9  q10  q11\n",
       "0   5   5   4   4   4   3   5   3   5    4    5\n",
       "1   6   4   5   6   5   6   5   6   6    6    5\n",
       "2   5   6   6   7   7   7   6   6   5    5    6\n",
       "3   5   5   5   5   5   4   4   4   5    5    5\n",
       "4   5   5   5   6   5   4   4   4   3    4    3"
      ]
     },
     "execution_count": 71,
     "metadata": {},
     "output_type": "execute_result"
    }
   ],
   "source": [
    "#method found on StackOverflow\n",
    "#http://stackoverflow.com/questions/33442796/fast-way-to-convert-strings-into-lists-of-ints-in-a-pandas-column\n",
    "\n",
    "mapping = {\"VERY LITTLE EXTENT\":1, \"LITTLE EXTENT\":2, \"SOME EXTENT\":3, \"MODERATE EXTENT\":4, \"CONSIDERABLE EXTENT\":5, \"GREAT EXTENT\":6, \"TO A VERY GREAT EXTENT\":7}\n",
    "df_2_num = df_2.apply(lambda x: np.array([mapping[char] for char in x]))\n",
    "df_2_num.head()"
   ]
  },
  {
   "cell_type": "markdown",
   "metadata": {},
   "source": [
    "(c) Perform EFA. Experiment with different settings of 1, 2 and 3 factors respectively. Show the factor loadings under each setting. You should obtain a matrix that looks like this:"
   ]
  },
  {
   "cell_type": "code",
   "execution_count": 111,
   "metadata": {
    "collapsed": false
   },
   "outputs": [
    {
     "data": {
      "text/html": [
       "<div>\n",
       "<table border=\"1\" class=\"dataframe\">\n",
       "  <thead>\n",
       "    <tr style=\"text-align: right;\">\n",
       "      <th></th>\n",
       "      <th>Factor1</th>\n",
       "    </tr>\n",
       "  </thead>\n",
       "  <tbody>\n",
       "    <tr>\n",
       "      <th>q1</th>\n",
       "      <td>0.496705</td>\n",
       "    </tr>\n",
       "    <tr>\n",
       "      <th>q2</th>\n",
       "      <td>0.690525</td>\n",
       "    </tr>\n",
       "    <tr>\n",
       "      <th>q3</th>\n",
       "      <td>0.619649</td>\n",
       "    </tr>\n",
       "    <tr>\n",
       "      <th>q4</th>\n",
       "      <td>0.652723</td>\n",
       "    </tr>\n",
       "    <tr>\n",
       "      <th>q5</th>\n",
       "      <td>0.568174</td>\n",
       "    </tr>\n",
       "    <tr>\n",
       "      <th>q6</th>\n",
       "      <td>0.800546</td>\n",
       "    </tr>\n",
       "    <tr>\n",
       "      <th>q7</th>\n",
       "      <td>0.851144</td>\n",
       "    </tr>\n",
       "    <tr>\n",
       "      <th>q8</th>\n",
       "      <td>0.683129</td>\n",
       "    </tr>\n",
       "    <tr>\n",
       "      <th>q9</th>\n",
       "      <td>0.591450</td>\n",
       "    </tr>\n",
       "    <tr>\n",
       "      <th>q10</th>\n",
       "      <td>0.675984</td>\n",
       "    </tr>\n",
       "    <tr>\n",
       "      <th>q11</th>\n",
       "      <td>0.525387</td>\n",
       "    </tr>\n",
       "  </tbody>\n",
       "</table>\n",
       "</div>"
      ],
      "text/plain": [
       "      Factor1\n",
       "q1   0.496705\n",
       "q2   0.690525\n",
       "q3   0.619649\n",
       "q4   0.652723\n",
       "q5   0.568174\n",
       "q6   0.800546\n",
       "q7   0.851144\n",
       "q8   0.683129\n",
       "q9   0.591450\n",
       "q10  0.675984\n",
       "q11  0.525387"
      ]
     },
     "execution_count": 111,
     "metadata": {},
     "output_type": "execute_result"
    }
   ],
   "source": [
    "#1-factor model\n",
    "fa_model = skd.FactorAnalysis(n_components=1).fit(df_2_num.ix[:,:11])\n",
    "\n",
    "pd.DataFrame(fa_model.components_[:1,:].T, \n",
    "             index=df_2_num.columns,\n",
    "             columns=['Factor1'])"
   ]
  },
  {
   "cell_type": "code",
   "execution_count": 112,
   "metadata": {
    "collapsed": false
   },
   "outputs": [
    {
     "data": {
      "text/html": [
       "<div>\n",
       "<table border=\"1\" class=\"dataframe\">\n",
       "  <thead>\n",
       "    <tr style=\"text-align: right;\">\n",
       "      <th></th>\n",
       "      <th>Factor1</th>\n",
       "      <th>Factor2</th>\n",
       "    </tr>\n",
       "  </thead>\n",
       "  <tbody>\n",
       "    <tr>\n",
       "      <th>q1</th>\n",
       "      <td>0.482880</td>\n",
       "      <td>-0.385668</td>\n",
       "    </tr>\n",
       "    <tr>\n",
       "      <th>q2</th>\n",
       "      <td>0.700832</td>\n",
       "      <td>-0.449409</td>\n",
       "    </tr>\n",
       "    <tr>\n",
       "      <th>q3</th>\n",
       "      <td>0.608596</td>\n",
       "      <td>-0.337814</td>\n",
       "    </tr>\n",
       "    <tr>\n",
       "      <th>q4</th>\n",
       "      <td>0.638492</td>\n",
       "      <td>-0.353686</td>\n",
       "    </tr>\n",
       "    <tr>\n",
       "      <th>q5</th>\n",
       "      <td>0.600315</td>\n",
       "      <td>0.178145</td>\n",
       "    </tr>\n",
       "    <tr>\n",
       "      <th>q6</th>\n",
       "      <td>0.882545</td>\n",
       "      <td>0.563022</td>\n",
       "    </tr>\n",
       "    <tr>\n",
       "      <th>q7</th>\n",
       "      <td>0.898772</td>\n",
       "      <td>0.318227</td>\n",
       "    </tr>\n",
       "    <tr>\n",
       "      <th>q8</th>\n",
       "      <td>0.761418</td>\n",
       "      <td>0.550336</td>\n",
       "    </tr>\n",
       "    <tr>\n",
       "      <th>q9</th>\n",
       "      <td>0.540986</td>\n",
       "      <td>-0.112421</td>\n",
       "    </tr>\n",
       "    <tr>\n",
       "      <th>q10</th>\n",
       "      <td>0.644295</td>\n",
       "      <td>-0.098667</td>\n",
       "    </tr>\n",
       "    <tr>\n",
       "      <th>q11</th>\n",
       "      <td>0.502895</td>\n",
       "      <td>0.054598</td>\n",
       "    </tr>\n",
       "  </tbody>\n",
       "</table>\n",
       "</div>"
      ],
      "text/plain": [
       "      Factor1   Factor2\n",
       "q1   0.482880 -0.385668\n",
       "q2   0.700832 -0.449409\n",
       "q3   0.608596 -0.337814\n",
       "q4   0.638492 -0.353686\n",
       "q5   0.600315  0.178145\n",
       "q6   0.882545  0.563022\n",
       "q7   0.898772  0.318227\n",
       "q8   0.761418  0.550336\n",
       "q9   0.540986 -0.112421\n",
       "q10  0.644295 -0.098667\n",
       "q11  0.502895  0.054598"
      ]
     },
     "execution_count": 112,
     "metadata": {},
     "output_type": "execute_result"
    }
   ],
   "source": [
    "#2-factor model\n",
    "fa_model = skd.FactorAnalysis(n_components=2).fit(df_2_num.ix[:,:11])\n",
    "\n",
    "pd.DataFrame(fa_model.components_[:2,:].T, \n",
    "             index=df_2_num.columns,\n",
    "             columns=['Factor1', 'Factor2'])"
   ]
  },
  {
   "cell_type": "code",
   "execution_count": 114,
   "metadata": {
    "collapsed": false
   },
   "outputs": [
    {
     "data": {
      "text/html": [
       "<div>\n",
       "<table border=\"1\" class=\"dataframe\">\n",
       "  <thead>\n",
       "    <tr style=\"text-align: right;\">\n",
       "      <th></th>\n",
       "      <th>Factor1</th>\n",
       "      <th>Factor2</th>\n",
       "      <th>Factor3</th>\n",
       "    </tr>\n",
       "  </thead>\n",
       "  <tbody>\n",
       "    <tr>\n",
       "      <th>q1</th>\n",
       "      <td>0.520269</td>\n",
       "      <td>-0.322068</td>\n",
       "      <td>0.087115</td>\n",
       "    </tr>\n",
       "    <tr>\n",
       "      <th>q2</th>\n",
       "      <td>0.761505</td>\n",
       "      <td>-0.409129</td>\n",
       "      <td>-0.163937</td>\n",
       "    </tr>\n",
       "    <tr>\n",
       "      <th>q3</th>\n",
       "      <td>0.637311</td>\n",
       "      <td>-0.267673</td>\n",
       "      <td>-0.022856</td>\n",
       "    </tr>\n",
       "    <tr>\n",
       "      <th>q4</th>\n",
       "      <td>0.663764</td>\n",
       "      <td>-0.263731</td>\n",
       "      <td>-0.045500</td>\n",
       "    </tr>\n",
       "    <tr>\n",
       "      <th>q5</th>\n",
       "      <td>0.570236</td>\n",
       "      <td>0.241547</td>\n",
       "      <td>-0.250002</td>\n",
       "    </tr>\n",
       "    <tr>\n",
       "      <th>q6</th>\n",
       "      <td>0.809820</td>\n",
       "      <td>0.648087</td>\n",
       "      <td>-0.119632</td>\n",
       "    </tr>\n",
       "    <tr>\n",
       "      <th>q7</th>\n",
       "      <td>0.853406</td>\n",
       "      <td>0.418560</td>\n",
       "      <td>-0.245228</td>\n",
       "    </tr>\n",
       "    <tr>\n",
       "      <th>q8</th>\n",
       "      <td>0.692235</td>\n",
       "      <td>0.626117</td>\n",
       "      <td>-0.047060</td>\n",
       "    </tr>\n",
       "    <tr>\n",
       "      <th>q9</th>\n",
       "      <td>0.587515</td>\n",
       "      <td>-0.017452</td>\n",
       "      <td>0.613462</td>\n",
       "    </tr>\n",
       "    <tr>\n",
       "      <th>q10</th>\n",
       "      <td>0.671758</td>\n",
       "      <td>-0.012623</td>\n",
       "      <td>0.331820</td>\n",
       "    </tr>\n",
       "    <tr>\n",
       "      <th>q11</th>\n",
       "      <td>0.512553</td>\n",
       "      <td>0.129197</td>\n",
       "      <td>0.293989</td>\n",
       "    </tr>\n",
       "  </tbody>\n",
       "</table>\n",
       "</div>"
      ],
      "text/plain": [
       "      Factor1   Factor2   Factor3\n",
       "q1   0.520269 -0.322068  0.087115\n",
       "q2   0.761505 -0.409129 -0.163937\n",
       "q3   0.637311 -0.267673 -0.022856\n",
       "q4   0.663764 -0.263731 -0.045500\n",
       "q5   0.570236  0.241547 -0.250002\n",
       "q6   0.809820  0.648087 -0.119632\n",
       "q7   0.853406  0.418560 -0.245228\n",
       "q8   0.692235  0.626117 -0.047060\n",
       "q9   0.587515 -0.017452  0.613462\n",
       "q10  0.671758 -0.012623  0.331820\n",
       "q11  0.512553  0.129197  0.293989"
      ]
     },
     "execution_count": 114,
     "metadata": {},
     "output_type": "execute_result"
    }
   ],
   "source": [
    "#3-factor model\n",
    "fa_model = skd.FactorAnalysis(n_components=3).fit(df_2_num.ix[:,:11])\n",
    "\n",
    "df_factor3 = pd.DataFrame(fa_model.components_[:3,:].T, \n",
    "             index=df_2_num.columns,\n",
    "             columns=['Factor1', 'Factor2', 'Factor3'])\n",
    "df_factor3"
   ]
  },
  {
   "cell_type": "markdown",
   "metadata": {},
   "source": [
    "(d) (Extra Credit) Visualize the factor loadings using seaborn's clustermap function. Do this for the three-factor setting only."
   ]
  },
  {
   "cell_type": "code",
   "execution_count": 81,
   "metadata": {
    "collapsed": false
   },
   "outputs": [
    {
     "data": {
      "text/plain": [
       "<seaborn.matrix.ClusterGrid at 0x10b6e0a90>"
      ]
     },
     "execution_count": 81,
     "metadata": {},
     "output_type": "execute_result"
    },
    {
     "data": {
      "image/png": "[encoded data removed]",
      "text/plain": [
       "<matplotlib.figure.Figure at 0x10b6e02b0>"
      ]
     },
     "metadata": {},
     "output_type": "display_data"
    }
   ],
   "source": [
    "sns.clustermap(df_factor3)"
   ]
  },
  {
   "cell_type": "markdown",
   "metadata": {},
   "source": [
    "(e) For the three-factor setting in (c), provide an intuitive explanation to the meaning of each factor."
   ]
  },
  {
   "cell_type": "markdown",
   "metadata": {},
   "source": [
    "*Explanation based on the questions asked of the participants.\n",
    "\n",
    "Factor 1: q1, q2, q3, q4, q5, q6, q7, q8 -- Positive, Encouraging and High-Acheiving\n",
    "\n",
    "Factor 2: q5, q6, q7, q8 -- High-Acheiving \n",
    "\n",
    "Factor 3: q9, q10, q11 -- Level-headed and Organized"
   ]
  },
  {
   "cell_type": "markdown",
   "metadata": {},
   "source": [
    " "
   ]
  },
  {
   "cell_type": "markdown",
   "metadata": {},
   "source": [
    "Worked with Tom Zidar and Brandon Wong"
   ]
  },
  {
   "cell_type": "code",
   "execution_count": null,
   "metadata": {
    "collapsed": true
   },
   "outputs": [],
   "source": []
  }
 ],
 "metadata": {
  "kernelspec": {
   "display_name": "Python 3",
   "language": "python",
   "name": "python3"
  },
  "language_info": {
   "codemirror_mode": {
    "name": "ipython",
    "version": 3
   },
   "file_extension": ".py",
   "mimetype": "text/x-python",
   "name": "python",
   "nbconvert_exporter": "python",
   "pygments_lexer": "ipython3",
   "version": "3.4.3"
  }
 },
 "nbformat": 4,
 "nbformat_minor": 0
}
