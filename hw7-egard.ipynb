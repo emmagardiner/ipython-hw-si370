{
 "cells": [
  {
   "cell_type": "code",
   "execution_count": 2,
   "metadata": {
    "collapsed": true
   },
   "outputs": [],
   "source": [
    "# Filter all warnings.\n",
    "# A recent matplotlib update around October 2015 causes various \n",
    "# spurious warnings.\n",
    "import warnings\n",
    "warnings.filterwarnings('ignore')"
   ]
  },
  {
   "cell_type": "code",
   "execution_count": 3,
   "metadata": {
    "collapsed": true
   },
   "outputs": [],
   "source": [
    "import numpy as np\n",
    "import scipy as sp\n",
    "import scipy.spatial.distance as spd\n",
    "import scipy.cluster.hierarchy as sph\n",
    "import sklearn as sk\n",
    "import sklearn.metrics as skm\n",
    "import sklearn.cluster as skc\n",
    "import sklearn.decomposition as skd\n",
    "import sklearn.mixture as skmix\n",
    "import pandas as pd\n",
    "import matplotlib.pyplot as plt\n",
    "%matplotlib inline\n",
    "import seaborn as sns\n",
    "sns.set(style='white', color_codes=True, font_scale=1.3)"
   ]
  },
  {
   "cell_type": "markdown",
   "metadata": {},
   "source": [
    "# 1. Guided Analysis"
   ]
  },
  {
   "cell_type": "markdown",
   "metadata": {},
   "source": [
    "Assume you are a data scientist working for a large retail chain company. Your team is working on identifying strategies to improve alcohol sales in a certain area. You are given a dataset of alcohol-buying customers as below, and you are asked to perform clustering analysis to explore what different types of customers there are, so that later on different strategies can be developed for different customer groups."
   ]
  },
  {
   "cell_type": "markdown",
   "metadata": {},
   "source": [
    "a) Load data"
   ]
  },
  {
   "cell_type": "code",
   "execution_count": 4,
   "metadata": {
    "collapsed": false
   },
   "outputs": [
    {
     "data": {
      "text/html": [
       "<div>\n",
       "<table border=\"1\" class=\"dataframe\">\n",
       "  <thead>\n",
       "    <tr style=\"text-align: right;\">\n",
       "      <th></th>\n",
       "      <th>CustomerID</th>\n",
       "      <th>Gender</th>\n",
       "      <th>Payment</th>\n",
       "      <th>FavoriteProduct</th>\n",
       "      <th>Age</th>\n",
       "      <th>Income</th>\n",
       "      <th>HouseholdSize</th>\n",
       "      <th>Sales</th>\n",
       "      <th>StoreVisit</th>\n",
       "    </tr>\n",
       "  </thead>\n",
       "  <tbody>\n",
       "    <tr>\n",
       "      <th>0</th>\n",
       "      <td>121</td>\n",
       "      <td>Female</td>\n",
       "      <td>Cash</td>\n",
       "      <td>Beer</td>\n",
       "      <td>42</td>\n",
       "      <td>65000</td>\n",
       "      <td>4</td>\n",
       "      <td>20</td>\n",
       "      <td>1</td>\n",
       "    </tr>\n",
       "    <tr>\n",
       "      <th>1</th>\n",
       "      <td>123</td>\n",
       "      <td>Male</td>\n",
       "      <td>Cash</td>\n",
       "      <td>Spirit</td>\n",
       "      <td>60</td>\n",
       "      <td>45000</td>\n",
       "      <td>2</td>\n",
       "      <td>300</td>\n",
       "      <td>10</td>\n",
       "    </tr>\n",
       "    <tr>\n",
       "      <th>2</th>\n",
       "      <td>154</td>\n",
       "      <td>Male</td>\n",
       "      <td>Debit</td>\n",
       "      <td>Beer</td>\n",
       "      <td>21</td>\n",
       "      <td>21000</td>\n",
       "      <td>1</td>\n",
       "      <td>46</td>\n",
       "      <td>18</td>\n",
       "    </tr>\n",
       "    <tr>\n",
       "      <th>3</th>\n",
       "      <td>166</td>\n",
       "      <td>Male</td>\n",
       "      <td>Cash</td>\n",
       "      <td>Spirit</td>\n",
       "      <td>72</td>\n",
       "      <td>48000</td>\n",
       "      <td>2</td>\n",
       "      <td>290</td>\n",
       "      <td>11</td>\n",
       "    </tr>\n",
       "    <tr>\n",
       "      <th>4</th>\n",
       "      <td>170</td>\n",
       "      <td>Female</td>\n",
       "      <td>Credit</td>\n",
       "      <td>Wine</td>\n",
       "      <td>36</td>\n",
       "      <td>90000</td>\n",
       "      <td>5</td>\n",
       "      <td>190</td>\n",
       "      <td>4</td>\n",
       "    </tr>\n",
       "    <tr>\n",
       "      <th>5</th>\n",
       "      <td>198</td>\n",
       "      <td>Female</td>\n",
       "      <td>Debit</td>\n",
       "      <td>Wine</td>\n",
       "      <td>34</td>\n",
       "      <td>85000</td>\n",
       "      <td>4</td>\n",
       "      <td>180</td>\n",
       "      <td>6</td>\n",
       "    </tr>\n",
       "    <tr>\n",
       "      <th>6</th>\n",
       "      <td>199</td>\n",
       "      <td>Male</td>\n",
       "      <td>Credit</td>\n",
       "      <td>Spirit</td>\n",
       "      <td>41</td>\n",
       "      <td>75000</td>\n",
       "      <td>2</td>\n",
       "      <td>15</td>\n",
       "      <td>1</td>\n",
       "    </tr>\n",
       "    <tr>\n",
       "      <th>7</th>\n",
       "      <td>205</td>\n",
       "      <td>Male</td>\n",
       "      <td>Cash</td>\n",
       "      <td>Wine</td>\n",
       "      <td>26</td>\n",
       "      <td>65000</td>\n",
       "      <td>1</td>\n",
       "      <td>20</td>\n",
       "      <td>2</td>\n",
       "    </tr>\n",
       "    <tr>\n",
       "      <th>8</th>\n",
       "      <td>222</td>\n",
       "      <td>Male</td>\n",
       "      <td>Cash</td>\n",
       "      <td>Spirit</td>\n",
       "      <td>21</td>\n",
       "      <td>21000</td>\n",
       "      <td>1</td>\n",
       "      <td>75</td>\n",
       "      <td>21</td>\n",
       "    </tr>\n",
       "    <tr>\n",
       "      <th>9</th>\n",
       "      <td>239</td>\n",
       "      <td>Female</td>\n",
       "      <td>Credit</td>\n",
       "      <td>Spirit</td>\n",
       "      <td>35</td>\n",
       "      <td>75000</td>\n",
       "      <td>4</td>\n",
       "      <td>200</td>\n",
       "      <td>5</td>\n",
       "    </tr>\n",
       "    <tr>\n",
       "      <th>10</th>\n",
       "      <td>268</td>\n",
       "      <td>Male</td>\n",
       "      <td>Debit</td>\n",
       "      <td>Spirit</td>\n",
       "      <td>68</td>\n",
       "      <td>44000</td>\n",
       "      <td>2</td>\n",
       "      <td>280</td>\n",
       "      <td>13</td>\n",
       "    </tr>\n",
       "    <tr>\n",
       "      <th>11</th>\n",
       "      <td>293</td>\n",
       "      <td>Male</td>\n",
       "      <td>Debit</td>\n",
       "      <td>Beer</td>\n",
       "      <td>23</td>\n",
       "      <td>30000</td>\n",
       "      <td>1</td>\n",
       "      <td>60</td>\n",
       "      <td>22</td>\n",
       "    </tr>\n",
       "    <tr>\n",
       "      <th>12</th>\n",
       "      <td>332</td>\n",
       "      <td>Male</td>\n",
       "      <td>Cash</td>\n",
       "      <td>Wine</td>\n",
       "      <td>65</td>\n",
       "      <td>55000</td>\n",
       "      <td>2</td>\n",
       "      <td>320</td>\n",
       "      <td>12</td>\n",
       "    </tr>\n",
       "    <tr>\n",
       "      <th>13</th>\n",
       "      <td>334</td>\n",
       "      <td>Male</td>\n",
       "      <td>Cash</td>\n",
       "      <td>Beer</td>\n",
       "      <td>22</td>\n",
       "      <td>15000</td>\n",
       "      <td>1</td>\n",
       "      <td>55</td>\n",
       "      <td>21</td>\n",
       "    </tr>\n",
       "    <tr>\n",
       "      <th>14</th>\n",
       "      <td>335</td>\n",
       "      <td>Female</td>\n",
       "      <td>Cash</td>\n",
       "      <td>Beer</td>\n",
       "      <td>24</td>\n",
       "      <td>23000</td>\n",
       "      <td>2</td>\n",
       "      <td>55</td>\n",
       "      <td>19</td>\n",
       "    </tr>\n",
       "    <tr>\n",
       "      <th>15</th>\n",
       "      <td>384</td>\n",
       "      <td>Female</td>\n",
       "      <td>Credit</td>\n",
       "      <td>Wine</td>\n",
       "      <td>27</td>\n",
       "      <td>125000</td>\n",
       "      <td>5</td>\n",
       "      <td>220</td>\n",
       "      <td>5</td>\n",
       "    </tr>\n",
       "    <tr>\n",
       "      <th>16</th>\n",
       "      <td>410</td>\n",
       "      <td>Female</td>\n",
       "      <td>Cash</td>\n",
       "      <td>Spirit</td>\n",
       "      <td>45</td>\n",
       "      <td>88000</td>\n",
       "      <td>3</td>\n",
       "      <td>15</td>\n",
       "      <td>1</td>\n",
       "    </tr>\n",
       "    <tr>\n",
       "      <th>17</th>\n",
       "      <td>420</td>\n",
       "      <td>Male</td>\n",
       "      <td>Cash</td>\n",
       "      <td>Beer</td>\n",
       "      <td>26</td>\n",
       "      <td>15000</td>\n",
       "      <td>2</td>\n",
       "      <td>20</td>\n",
       "      <td>1</td>\n",
       "    </tr>\n",
       "    <tr>\n",
       "      <th>18</th>\n",
       "      <td>537</td>\n",
       "      <td>Female</td>\n",
       "      <td>Debit</td>\n",
       "      <td>Beer</td>\n",
       "      <td>23</td>\n",
       "      <td>22000</td>\n",
       "      <td>2</td>\n",
       "      <td>50</td>\n",
       "      <td>16</td>\n",
       "    </tr>\n",
       "    <tr>\n",
       "      <th>19</th>\n",
       "      <td>584</td>\n",
       "      <td>Female</td>\n",
       "      <td>Cash</td>\n",
       "      <td>Beer</td>\n",
       "      <td>25</td>\n",
       "      <td>20000</td>\n",
       "      <td>2</td>\n",
       "      <td>60</td>\n",
       "      <td>20</td>\n",
       "    </tr>\n",
       "  </tbody>\n",
       "</table>\n",
       "</div>"
      ],
      "text/plain": [
       "    CustomerID  Gender Payment FavoriteProduct  Age  Income  HouseholdSize  \\\n",
       "0          121  Female    Cash            Beer   42   65000              4   \n",
       "1          123    Male    Cash          Spirit   60   45000              2   \n",
       "2          154    Male   Debit            Beer   21   21000              1   \n",
       "3          166    Male    Cash          Spirit   72   48000              2   \n",
       "4          170  Female  Credit            Wine   36   90000              5   \n",
       "5          198  Female   Debit            Wine   34   85000              4   \n",
       "6          199    Male  Credit          Spirit   41   75000              2   \n",
       "7          205    Male    Cash            Wine   26   65000              1   \n",
       "8          222    Male    Cash          Spirit   21   21000              1   \n",
       "9          239  Female  Credit          Spirit   35   75000              4   \n",
       "10         268    Male   Debit          Spirit   68   44000              2   \n",
       "11         293    Male   Debit            Beer   23   30000              1   \n",
       "12         332    Male    Cash            Wine   65   55000              2   \n",
       "13         334    Male    Cash            Beer   22   15000              1   \n",
       "14         335  Female    Cash            Beer   24   23000              2   \n",
       "15         384  Female  Credit            Wine   27  125000              5   \n",
       "16         410  Female    Cash          Spirit   45   88000              3   \n",
       "17         420    Male    Cash            Beer   26   15000              2   \n",
       "18         537  Female   Debit            Beer   23   22000              2   \n",
       "19         584  Female    Cash            Beer   25   20000              2   \n",
       "\n",
       "    Sales  StoreVisit  \n",
       "0      20           1  \n",
       "1     300          10  \n",
       "2      46          18  \n",
       "3     290          11  \n",
       "4     190           4  \n",
       "5     180           6  \n",
       "6      15           1  \n",
       "7      20           2  \n",
       "8      75          21  \n",
       "9     200           5  \n",
       "10    280          13  \n",
       "11     60          22  \n",
       "12    320          12  \n",
       "13     55          21  \n",
       "14     55          19  \n",
       "15    220           5  \n",
       "16     15           1  \n",
       "17     20           1  \n",
       "18     50          16  \n",
       "19     60          20  "
      ]
     },
     "execution_count": 4,
     "metadata": {},
     "output_type": "execute_result"
    }
   ],
   "source": [
    "df = pd.read_csv('si-370-hw7-df.csv')\n",
    "df"
   ]
  },
  {
   "cell_type": "markdown",
   "metadata": {},
   "source": [
    "(b) Filter the data by dropping the rows where StoreVisit is smaller than 3. This is because we want to focus on customers for whom we have sufficient data. For subsequent questions, use the filtered data."
   ]
  },
  {
   "cell_type": "code",
   "execution_count": 5,
   "metadata": {
    "collapsed": true
   },
   "outputs": [],
   "source": [
    "df_filt = df[(df.StoreVisit >= 3)]"
   ]
  },
  {
   "cell_type": "code",
   "execution_count": 6,
   "metadata": {
    "collapsed": false
   },
   "outputs": [
    {
     "data": {
      "text/html": [
       "<div>\n",
       "<table border=\"1\" class=\"dataframe\">\n",
       "  <thead>\n",
       "    <tr style=\"text-align: right;\">\n",
       "      <th></th>\n",
       "      <th>Gender</th>\n",
       "      <th>Payment</th>\n",
       "      <th>FavoriteProduct</th>\n",
       "      <th>Age</th>\n",
       "      <th>Income</th>\n",
       "      <th>HouseholdSize</th>\n",
       "      <th>Sales</th>\n",
       "      <th>StoreVisit</th>\n",
       "    </tr>\n",
       "    <tr>\n",
       "      <th>CustomerID</th>\n",
       "      <th></th>\n",
       "      <th></th>\n",
       "      <th></th>\n",
       "      <th></th>\n",
       "      <th></th>\n",
       "      <th></th>\n",
       "      <th></th>\n",
       "      <th></th>\n",
       "    </tr>\n",
       "  </thead>\n",
       "  <tbody>\n",
       "    <tr>\n",
       "      <th>123</th>\n",
       "      <td>Male</td>\n",
       "      <td>Cash</td>\n",
       "      <td>Spirit</td>\n",
       "      <td>60</td>\n",
       "      <td>45000</td>\n",
       "      <td>2</td>\n",
       "      <td>300</td>\n",
       "      <td>10</td>\n",
       "    </tr>\n",
       "    <tr>\n",
       "      <th>154</th>\n",
       "      <td>Male</td>\n",
       "      <td>Debit</td>\n",
       "      <td>Beer</td>\n",
       "      <td>21</td>\n",
       "      <td>21000</td>\n",
       "      <td>1</td>\n",
       "      <td>46</td>\n",
       "      <td>18</td>\n",
       "    </tr>\n",
       "    <tr>\n",
       "      <th>166</th>\n",
       "      <td>Male</td>\n",
       "      <td>Cash</td>\n",
       "      <td>Spirit</td>\n",
       "      <td>72</td>\n",
       "      <td>48000</td>\n",
       "      <td>2</td>\n",
       "      <td>290</td>\n",
       "      <td>11</td>\n",
       "    </tr>\n",
       "    <tr>\n",
       "      <th>170</th>\n",
       "      <td>Female</td>\n",
       "      <td>Credit</td>\n",
       "      <td>Wine</td>\n",
       "      <td>36</td>\n",
       "      <td>90000</td>\n",
       "      <td>5</td>\n",
       "      <td>190</td>\n",
       "      <td>4</td>\n",
       "    </tr>\n",
       "    <tr>\n",
       "      <th>198</th>\n",
       "      <td>Female</td>\n",
       "      <td>Debit</td>\n",
       "      <td>Wine</td>\n",
       "      <td>34</td>\n",
       "      <td>85000</td>\n",
       "      <td>4</td>\n",
       "      <td>180</td>\n",
       "      <td>6</td>\n",
       "    </tr>\n",
       "    <tr>\n",
       "      <th>222</th>\n",
       "      <td>Male</td>\n",
       "      <td>Cash</td>\n",
       "      <td>Spirit</td>\n",
       "      <td>21</td>\n",
       "      <td>21000</td>\n",
       "      <td>1</td>\n",
       "      <td>75</td>\n",
       "      <td>21</td>\n",
       "    </tr>\n",
       "    <tr>\n",
       "      <th>239</th>\n",
       "      <td>Female</td>\n",
       "      <td>Credit</td>\n",
       "      <td>Spirit</td>\n",
       "      <td>35</td>\n",
       "      <td>75000</td>\n",
       "      <td>4</td>\n",
       "      <td>200</td>\n",
       "      <td>5</td>\n",
       "    </tr>\n",
       "    <tr>\n",
       "      <th>268</th>\n",
       "      <td>Male</td>\n",
       "      <td>Debit</td>\n",
       "      <td>Spirit</td>\n",
       "      <td>68</td>\n",
       "      <td>44000</td>\n",
       "      <td>2</td>\n",
       "      <td>280</td>\n",
       "      <td>13</td>\n",
       "    </tr>\n",
       "    <tr>\n",
       "      <th>293</th>\n",
       "      <td>Male</td>\n",
       "      <td>Debit</td>\n",
       "      <td>Beer</td>\n",
       "      <td>23</td>\n",
       "      <td>30000</td>\n",
       "      <td>1</td>\n",
       "      <td>60</td>\n",
       "      <td>22</td>\n",
       "    </tr>\n",
       "    <tr>\n",
       "      <th>332</th>\n",
       "      <td>Male</td>\n",
       "      <td>Cash</td>\n",
       "      <td>Wine</td>\n",
       "      <td>65</td>\n",
       "      <td>55000</td>\n",
       "      <td>2</td>\n",
       "      <td>320</td>\n",
       "      <td>12</td>\n",
       "    </tr>\n",
       "    <tr>\n",
       "      <th>334</th>\n",
       "      <td>Male</td>\n",
       "      <td>Cash</td>\n",
       "      <td>Beer</td>\n",
       "      <td>22</td>\n",
       "      <td>15000</td>\n",
       "      <td>1</td>\n",
       "      <td>55</td>\n",
       "      <td>21</td>\n",
       "    </tr>\n",
       "    <tr>\n",
       "      <th>335</th>\n",
       "      <td>Female</td>\n",
       "      <td>Cash</td>\n",
       "      <td>Beer</td>\n",
       "      <td>24</td>\n",
       "      <td>23000</td>\n",
       "      <td>2</td>\n",
       "      <td>55</td>\n",
       "      <td>19</td>\n",
       "    </tr>\n",
       "    <tr>\n",
       "      <th>384</th>\n",
       "      <td>Female</td>\n",
       "      <td>Credit</td>\n",
       "      <td>Wine</td>\n",
       "      <td>27</td>\n",
       "      <td>125000</td>\n",
       "      <td>5</td>\n",
       "      <td>220</td>\n",
       "      <td>5</td>\n",
       "    </tr>\n",
       "    <tr>\n",
       "      <th>537</th>\n",
       "      <td>Female</td>\n",
       "      <td>Debit</td>\n",
       "      <td>Beer</td>\n",
       "      <td>23</td>\n",
       "      <td>22000</td>\n",
       "      <td>2</td>\n",
       "      <td>50</td>\n",
       "      <td>16</td>\n",
       "    </tr>\n",
       "    <tr>\n",
       "      <th>584</th>\n",
       "      <td>Female</td>\n",
       "      <td>Cash</td>\n",
       "      <td>Beer</td>\n",
       "      <td>25</td>\n",
       "      <td>20000</td>\n",
       "      <td>2</td>\n",
       "      <td>60</td>\n",
       "      <td>20</td>\n",
       "    </tr>\n",
       "  </tbody>\n",
       "</table>\n",
       "</div>"
      ],
      "text/plain": [
       "            Gender Payment FavoriteProduct  Age  Income  HouseholdSize  Sales  \\\n",
       "CustomerID                                                                      \n",
       "123           Male    Cash          Spirit   60   45000              2    300   \n",
       "154           Male   Debit            Beer   21   21000              1     46   \n",
       "166           Male    Cash          Spirit   72   48000              2    290   \n",
       "170         Female  Credit            Wine   36   90000              5    190   \n",
       "198         Female   Debit            Wine   34   85000              4    180   \n",
       "222           Male    Cash          Spirit   21   21000              1     75   \n",
       "239         Female  Credit          Spirit   35   75000              4    200   \n",
       "268           Male   Debit          Spirit   68   44000              2    280   \n",
       "293           Male   Debit            Beer   23   30000              1     60   \n",
       "332           Male    Cash            Wine   65   55000              2    320   \n",
       "334           Male    Cash            Beer   22   15000              1     55   \n",
       "335         Female    Cash            Beer   24   23000              2     55   \n",
       "384         Female  Credit            Wine   27  125000              5    220   \n",
       "537         Female   Debit            Beer   23   22000              2     50   \n",
       "584         Female    Cash            Beer   25   20000              2     60   \n",
       "\n",
       "            StoreVisit  \n",
       "CustomerID              \n",
       "123                 10  \n",
       "154                 18  \n",
       "166                 11  \n",
       "170                  4  \n",
       "198                  6  \n",
       "222                 21  \n",
       "239                  5  \n",
       "268                 13  \n",
       "293                 22  \n",
       "332                 12  \n",
       "334                 21  \n",
       "335                 19  \n",
       "384                  5  \n",
       "537                 16  \n",
       "584                 20  "
      ]
     },
     "execution_count": 6,
     "metadata": {},
     "output_type": "execute_result"
    }
   ],
   "source": [
    "df_filt = df_filt.set_index('CustomerID')\n",
    "df_filt"
   ]
  },
  {
   "cell_type": "markdown",
   "metadata": {},
   "source": [
    "(c) Convert categorical variables (columns) into binary variables. This is for the convenience of calculating distance between customers later on. There are three categorical variables that need to be converted. Create a new column for each unique value of each categorical variable."
   ]
  },
  {
   "cell_type": "code",
   "execution_count": 7,
   "metadata": {
    "collapsed": false
   },
   "outputs": [
    {
     "data": {
      "text/html": [
       "<div>\n",
       "<table border=\"1\" class=\"dataframe\">\n",
       "  <thead>\n",
       "    <tr style=\"text-align: right;\">\n",
       "      <th></th>\n",
       "      <th>Age</th>\n",
       "      <th>Income</th>\n",
       "      <th>HouseholdSize</th>\n",
       "      <th>Sales</th>\n",
       "      <th>StoreVisit</th>\n",
       "      <th>Female</th>\n",
       "      <th>Male</th>\n",
       "      <th>Cash</th>\n",
       "      <th>Credit</th>\n",
       "      <th>Debit</th>\n",
       "      <th>Beer</th>\n",
       "      <th>Spirit</th>\n",
       "      <th>Wine</th>\n",
       "    </tr>\n",
       "    <tr>\n",
       "      <th>CustomerID</th>\n",
       "      <th></th>\n",
       "      <th></th>\n",
       "      <th></th>\n",
       "      <th></th>\n",
       "      <th></th>\n",
       "      <th></th>\n",
       "      <th></th>\n",
       "      <th></th>\n",
       "      <th></th>\n",
       "      <th></th>\n",
       "      <th></th>\n",
       "      <th></th>\n",
       "      <th></th>\n",
       "    </tr>\n",
       "  </thead>\n",
       "  <tbody>\n",
       "    <tr>\n",
       "      <th>123</th>\n",
       "      <td>60</td>\n",
       "      <td>45000</td>\n",
       "      <td>2</td>\n",
       "      <td>300</td>\n",
       "      <td>10</td>\n",
       "      <td>0</td>\n",
       "      <td>1</td>\n",
       "      <td>1</td>\n",
       "      <td>0</td>\n",
       "      <td>0</td>\n",
       "      <td>0</td>\n",
       "      <td>1</td>\n",
       "      <td>0</td>\n",
       "    </tr>\n",
       "    <tr>\n",
       "      <th>154</th>\n",
       "      <td>21</td>\n",
       "      <td>21000</td>\n",
       "      <td>1</td>\n",
       "      <td>46</td>\n",
       "      <td>18</td>\n",
       "      <td>0</td>\n",
       "      <td>1</td>\n",
       "      <td>0</td>\n",
       "      <td>0</td>\n",
       "      <td>1</td>\n",
       "      <td>1</td>\n",
       "      <td>0</td>\n",
       "      <td>0</td>\n",
       "    </tr>\n",
       "    <tr>\n",
       "      <th>166</th>\n",
       "      <td>72</td>\n",
       "      <td>48000</td>\n",
       "      <td>2</td>\n",
       "      <td>290</td>\n",
       "      <td>11</td>\n",
       "      <td>0</td>\n",
       "      <td>1</td>\n",
       "      <td>1</td>\n",
       "      <td>0</td>\n",
       "      <td>0</td>\n",
       "      <td>0</td>\n",
       "      <td>1</td>\n",
       "      <td>0</td>\n",
       "    </tr>\n",
       "    <tr>\n",
       "      <th>170</th>\n",
       "      <td>36</td>\n",
       "      <td>90000</td>\n",
       "      <td>5</td>\n",
       "      <td>190</td>\n",
       "      <td>4</td>\n",
       "      <td>1</td>\n",
       "      <td>0</td>\n",
       "      <td>0</td>\n",
       "      <td>1</td>\n",
       "      <td>0</td>\n",
       "      <td>0</td>\n",
       "      <td>0</td>\n",
       "      <td>1</td>\n",
       "    </tr>\n",
       "    <tr>\n",
       "      <th>198</th>\n",
       "      <td>34</td>\n",
       "      <td>85000</td>\n",
       "      <td>4</td>\n",
       "      <td>180</td>\n",
       "      <td>6</td>\n",
       "      <td>1</td>\n",
       "      <td>0</td>\n",
       "      <td>0</td>\n",
       "      <td>0</td>\n",
       "      <td>1</td>\n",
       "      <td>0</td>\n",
       "      <td>0</td>\n",
       "      <td>1</td>\n",
       "    </tr>\n",
       "  </tbody>\n",
       "</table>\n",
       "</div>"
      ],
      "text/plain": [
       "            Age  Income  HouseholdSize  Sales  StoreVisit  Female  Male  Cash  \\\n",
       "CustomerID                                                                      \n",
       "123          60   45000              2    300          10       0     1     1   \n",
       "154          21   21000              1     46          18       0     1     0   \n",
       "166          72   48000              2    290          11       0     1     1   \n",
       "170          36   90000              5    190           4       1     0     0   \n",
       "198          34   85000              4    180           6       1     0     0   \n",
       "\n",
       "            Credit  Debit  Beer  Spirit  Wine  \n",
       "CustomerID                                     \n",
       "123              0      0     0       1     0  \n",
       "154              0      1     1       0     0  \n",
       "166              0      0     0       1     0  \n",
       "170              1      0     0       0     1  \n",
       "198              0      1     0       0     1  "
      ]
     },
     "execution_count": 7,
     "metadata": {},
     "output_type": "execute_result"
    }
   ],
   "source": [
    "gender = pd.get_dummies(df_filt['Gender'])\n",
    "payment = pd.get_dummies(df_filt['Payment'])\n",
    "fav = pd.get_dummies(df_filt['FavoriteProduct'])\n",
    "\n",
    "df_filt['Female'] = gender.Female\n",
    "df_filt['Male'] = gender.Male\n",
    "df_filt['Cash'] = payment.Cash\n",
    "df_filt['Credit'] = payment.Credit\n",
    "df_filt['Debit'] = payment.Debit\n",
    "df_filt['Beer'] = fav.Beer\n",
    "df_filt['Spirit'] = fav.Spirit\n",
    "df_filt['Wine'] = fav.Wine\n",
    "df_filt.drop('Gender', axis=1, inplace=True)\n",
    "df_filt.drop('Payment', axis=1, inplace=True)\n",
    "df_filt.drop('FavoriteProduct', axis=1, inplace=True)\n",
    "\n",
    "df_filt_2 = df_filt.copy()\n",
    "df_filt.head()\n"
   ]
  },
  {
   "cell_type": "markdown",
   "metadata": {},
   "source": [
    "(d) Normalize all data columns, so that each column has a mean of 0 and a standard deviation of 1. Data normalization is important to clustering analysis: without normalization, columns like \"Income\" will dominate the distance calculation between customers (because of its scale), whereas we want every column to exert a comparable amount of influence in calculating the distance.\n",
    "\n",
    "For example, for the Income column, you need to calculate mean and standard deviation (std), and each data point should be normalized as\n",
    "Income_normalized = (Income - mean(Income)) / std(Income)"
   ]
  },
  {
   "cell_type": "code",
   "execution_count": 8,
   "metadata": {
    "collapsed": false
   },
   "outputs": [
    {
     "data": {
      "text/html": [
       "<div>\n",
       "<table border=\"1\" class=\"dataframe\">\n",
       "  <thead>\n",
       "    <tr style=\"text-align: right;\">\n",
       "      <th></th>\n",
       "      <th>Age</th>\n",
       "      <th>Income</th>\n",
       "      <th>HouseholdSize</th>\n",
       "      <th>Sales</th>\n",
       "      <th>StoreVisit</th>\n",
       "      <th>Female</th>\n",
       "      <th>Male</th>\n",
       "      <th>Cash</th>\n",
       "      <th>Credit</th>\n",
       "      <th>Debit</th>\n",
       "      <th>Beer</th>\n",
       "      <th>Spirit</th>\n",
       "      <th>Wine</th>\n",
       "    </tr>\n",
       "    <tr>\n",
       "      <th>CustomerID</th>\n",
       "      <th></th>\n",
       "      <th></th>\n",
       "      <th></th>\n",
       "      <th></th>\n",
       "      <th></th>\n",
       "      <th></th>\n",
       "      <th></th>\n",
       "      <th></th>\n",
       "      <th></th>\n",
       "      <th></th>\n",
       "      <th></th>\n",
       "      <th></th>\n",
       "      <th></th>\n",
       "    </tr>\n",
       "  </thead>\n",
       "  <tbody>\n",
       "    <tr>\n",
       "      <th>123</th>\n",
       "      <td>1.249267</td>\n",
       "      <td>-0.093319</td>\n",
       "      <td>-0.294884</td>\n",
       "      <td>1.379292</td>\n",
       "      <td>-0.560666</td>\n",
       "      <td>-0.935414</td>\n",
       "      <td>0.935414</td>\n",
       "      <td>1.069045</td>\n",
       "      <td>-0.5</td>\n",
       "      <td>-0.707107</td>\n",
       "      <td>-0.816497</td>\n",
       "      <td>1.414214</td>\n",
       "      <td>-0.603023</td>\n",
       "    </tr>\n",
       "    <tr>\n",
       "      <th>154</th>\n",
       "      <td>-0.875213</td>\n",
       "      <td>-0.856837</td>\n",
       "      <td>-1.032094</td>\n",
       "      <td>-1.100700</td>\n",
       "      <td>0.708767</td>\n",
       "      <td>-0.935414</td>\n",
       "      <td>0.935414</td>\n",
       "      <td>-0.935414</td>\n",
       "      <td>-0.5</td>\n",
       "      <td>1.414214</td>\n",
       "      <td>1.224745</td>\n",
       "      <td>-0.707107</td>\n",
       "      <td>-0.603023</td>\n",
       "    </tr>\n",
       "    <tr>\n",
       "      <th>166</th>\n",
       "      <td>1.902952</td>\n",
       "      <td>0.002121</td>\n",
       "      <td>-0.294884</td>\n",
       "      <td>1.281654</td>\n",
       "      <td>-0.401987</td>\n",
       "      <td>-0.935414</td>\n",
       "      <td>0.935414</td>\n",
       "      <td>1.069045</td>\n",
       "      <td>-0.5</td>\n",
       "      <td>-0.707107</td>\n",
       "      <td>-0.816497</td>\n",
       "      <td>1.414214</td>\n",
       "      <td>-0.603023</td>\n",
       "    </tr>\n",
       "    <tr>\n",
       "      <th>170</th>\n",
       "      <td>-0.058105</td>\n",
       "      <td>1.338277</td>\n",
       "      <td>1.916745</td>\n",
       "      <td>0.305280</td>\n",
       "      <td>-1.512741</td>\n",
       "      <td>1.069045</td>\n",
       "      <td>-1.069045</td>\n",
       "      <td>-0.935414</td>\n",
       "      <td>2.0</td>\n",
       "      <td>-0.707107</td>\n",
       "      <td>-0.816497</td>\n",
       "      <td>-0.707107</td>\n",
       "      <td>1.658312</td>\n",
       "    </tr>\n",
       "    <tr>\n",
       "      <th>198</th>\n",
       "      <td>-0.167053</td>\n",
       "      <td>1.179211</td>\n",
       "      <td>1.179536</td>\n",
       "      <td>0.207642</td>\n",
       "      <td>-1.195382</td>\n",
       "      <td>1.069045</td>\n",
       "      <td>-1.069045</td>\n",
       "      <td>-0.935414</td>\n",
       "      <td>-0.5</td>\n",
       "      <td>1.414214</td>\n",
       "      <td>-0.816497</td>\n",
       "      <td>-0.707107</td>\n",
       "      <td>1.658312</td>\n",
       "    </tr>\n",
       "  </tbody>\n",
       "</table>\n",
       "</div>"
      ],
      "text/plain": [
       "                 Age    Income  HouseholdSize     Sales  StoreVisit    Female  \\\n",
       "CustomerID                                                                      \n",
       "123         1.249267 -0.093319      -0.294884  1.379292   -0.560666 -0.935414   \n",
       "154        -0.875213 -0.856837      -1.032094 -1.100700    0.708767 -0.935414   \n",
       "166         1.902952  0.002121      -0.294884  1.281654   -0.401987 -0.935414   \n",
       "170        -0.058105  1.338277       1.916745  0.305280   -1.512741  1.069045   \n",
       "198        -0.167053  1.179211       1.179536  0.207642   -1.195382  1.069045   \n",
       "\n",
       "                Male      Cash  Credit     Debit      Beer    Spirit      Wine  \n",
       "CustomerID                                                                      \n",
       "123         0.935414  1.069045    -0.5 -0.707107 -0.816497  1.414214 -0.603023  \n",
       "154         0.935414 -0.935414    -0.5  1.414214  1.224745 -0.707107 -0.603023  \n",
       "166         0.935414  1.069045    -0.5 -0.707107 -0.816497  1.414214 -0.603023  \n",
       "170        -1.069045 -0.935414     2.0 -0.707107 -0.816497 -0.707107  1.658312  \n",
       "198        -1.069045 -0.935414    -0.5  1.414214 -0.816497 -0.707107  1.658312  "
      ]
     },
     "execution_count": 8,
     "metadata": {},
     "output_type": "execute_result"
    }
   ],
   "source": [
    "#income_normalized = (df_filt['Income'] - df_filt['Income'].mean()) / df_filt['Income'].std()\n",
    "#income_normalized\n",
    "\n",
    "import sklearn.preprocessing as skp\n",
    "\n",
    "\n",
    "df_filt[:] = skp.scale(df_filt, axis=0, with_mean=True, with_std=True, copy=True)\n",
    "df_filt.head()"
   ]
  },
  {
   "cell_type": "markdown",
   "metadata": {
    "collapsed": false
   },
   "source": [
    "e) Perform hierarchical clustering on the customers. Observe the following requirements..."
   ]
  },
  {
   "cell_type": "code",
   "execution_count": 55,
   "metadata": {
    "collapsed": false
   },
   "outputs": [
    {
     "data": {
      "text/plain": [
       "(15, 15)"
      ]
     },
     "execution_count": 55,
     "metadata": {},
     "output_type": "execute_result"
    }
   ],
   "source": [
    "#Use Euclidean distance\n",
    "dist_filt = spd.squareform(spd.pdist(df_filt, metric='euclidean'))\n",
    "dist_filt.shape"
   ]
  },
  {
   "cell_type": "code",
   "execution_count": 56,
   "metadata": {
    "collapsed": false
   },
   "outputs": [
    {
     "data": {
      "image/png": "[encoded data removed]",
      "text/plain": [
       "<matplotlib.figure.Figure at 0x10b576438>"
      ]
     },
     "metadata": {},
     "output_type": "display_data"
    }
   ],
   "source": [
    "#Use \"single\" linkage function\n",
    "#Plot dendrogram\n",
    "Z_filt = sph.linkage(dist_filt, method='single')  # obtain the linkage matrix\n",
    "_ = sph.dendrogram(Z_filt)  # plot the linkage matrix as a dendrogram\n",
    "plt.xlabel('')\n",
    "plt.ylabel('')\n",
    "plt.suptitle('Dendrogram', \n",
    "             fontweight='bold', fontsize=14);"
   ]
  },
  {
   "cell_type": "code",
   "execution_count": 57,
   "metadata": {
    "collapsed": false
   },
   "outputs": [
    {
     "data": {
      "text/html": [
       "<div>\n",
       "<table border=\"1\" class=\"dataframe\">\n",
       "  <thead>\n",
       "    <tr style=\"text-align: right;\">\n",
       "      <th></th>\n",
       "      <th>Age</th>\n",
       "      <th>Income</th>\n",
       "      <th>HouseholdSize</th>\n",
       "      <th>Sales</th>\n",
       "      <th>StoreVisit</th>\n",
       "      <th>Female</th>\n",
       "      <th>Male</th>\n",
       "      <th>Cash</th>\n",
       "      <th>Credit</th>\n",
       "      <th>Debit</th>\n",
       "      <th>Beer</th>\n",
       "      <th>Spirit</th>\n",
       "      <th>Wine</th>\n",
       "      <th>cluster_label</th>\n",
       "    </tr>\n",
       "    <tr>\n",
       "      <th>CustomerID</th>\n",
       "      <th></th>\n",
       "      <th></th>\n",
       "      <th></th>\n",
       "      <th></th>\n",
       "      <th></th>\n",
       "      <th></th>\n",
       "      <th></th>\n",
       "      <th></th>\n",
       "      <th></th>\n",
       "      <th></th>\n",
       "      <th></th>\n",
       "      <th></th>\n",
       "      <th></th>\n",
       "      <th></th>\n",
       "    </tr>\n",
       "  </thead>\n",
       "  <tbody>\n",
       "    <tr>\n",
       "      <th>123</th>\n",
       "      <td>1.249267</td>\n",
       "      <td>-0.093319</td>\n",
       "      <td>-0.294884</td>\n",
       "      <td>1.379292</td>\n",
       "      <td>-0.560666</td>\n",
       "      <td>-0.935414</td>\n",
       "      <td>0.935414</td>\n",
       "      <td>1.069045</td>\n",
       "      <td>-0.5</td>\n",
       "      <td>-0.707107</td>\n",
       "      <td>-0.816497</td>\n",
       "      <td>1.414214</td>\n",
       "      <td>-0.603023</td>\n",
       "      <td>2</td>\n",
       "    </tr>\n",
       "    <tr>\n",
       "      <th>154</th>\n",
       "      <td>-0.875213</td>\n",
       "      <td>-0.856837</td>\n",
       "      <td>-1.032094</td>\n",
       "      <td>-1.100700</td>\n",
       "      <td>0.708767</td>\n",
       "      <td>-0.935414</td>\n",
       "      <td>0.935414</td>\n",
       "      <td>-0.935414</td>\n",
       "      <td>-0.5</td>\n",
       "      <td>1.414214</td>\n",
       "      <td>1.224745</td>\n",
       "      <td>-0.707107</td>\n",
       "      <td>-0.603023</td>\n",
       "      <td>3</td>\n",
       "    </tr>\n",
       "    <tr>\n",
       "      <th>166</th>\n",
       "      <td>1.902952</td>\n",
       "      <td>0.002121</td>\n",
       "      <td>-0.294884</td>\n",
       "      <td>1.281654</td>\n",
       "      <td>-0.401987</td>\n",
       "      <td>-0.935414</td>\n",
       "      <td>0.935414</td>\n",
       "      <td>1.069045</td>\n",
       "      <td>-0.5</td>\n",
       "      <td>-0.707107</td>\n",
       "      <td>-0.816497</td>\n",
       "      <td>1.414214</td>\n",
       "      <td>-0.603023</td>\n",
       "      <td>2</td>\n",
       "    </tr>\n",
       "    <tr>\n",
       "      <th>170</th>\n",
       "      <td>-0.058105</td>\n",
       "      <td>1.338277</td>\n",
       "      <td>1.916745</td>\n",
       "      <td>0.305280</td>\n",
       "      <td>-1.512741</td>\n",
       "      <td>1.069045</td>\n",
       "      <td>-1.069045</td>\n",
       "      <td>-0.935414</td>\n",
       "      <td>2.0</td>\n",
       "      <td>-0.707107</td>\n",
       "      <td>-0.816497</td>\n",
       "      <td>-0.707107</td>\n",
       "      <td>1.658312</td>\n",
       "      <td>1</td>\n",
       "    </tr>\n",
       "    <tr>\n",
       "      <th>198</th>\n",
       "      <td>-0.167053</td>\n",
       "      <td>1.179211</td>\n",
       "      <td>1.179536</td>\n",
       "      <td>0.207642</td>\n",
       "      <td>-1.195382</td>\n",
       "      <td>1.069045</td>\n",
       "      <td>-1.069045</td>\n",
       "      <td>-0.935414</td>\n",
       "      <td>-0.5</td>\n",
       "      <td>1.414214</td>\n",
       "      <td>-0.816497</td>\n",
       "      <td>-0.707107</td>\n",
       "      <td>1.658312</td>\n",
       "      <td>1</td>\n",
       "    </tr>\n",
       "    <tr>\n",
       "      <th>222</th>\n",
       "      <td>-0.875213</td>\n",
       "      <td>-0.856837</td>\n",
       "      <td>-1.032094</td>\n",
       "      <td>-0.817551</td>\n",
       "      <td>1.184804</td>\n",
       "      <td>-0.935414</td>\n",
       "      <td>0.935414</td>\n",
       "      <td>1.069045</td>\n",
       "      <td>-0.5</td>\n",
       "      <td>-0.707107</td>\n",
       "      <td>-0.816497</td>\n",
       "      <td>1.414214</td>\n",
       "      <td>-0.603023</td>\n",
       "      <td>3</td>\n",
       "    </tr>\n",
       "    <tr>\n",
       "      <th>239</th>\n",
       "      <td>-0.112579</td>\n",
       "      <td>0.861078</td>\n",
       "      <td>1.179536</td>\n",
       "      <td>0.402917</td>\n",
       "      <td>-1.354061</td>\n",
       "      <td>1.069045</td>\n",
       "      <td>-1.069045</td>\n",
       "      <td>-0.935414</td>\n",
       "      <td>2.0</td>\n",
       "      <td>-0.707107</td>\n",
       "      <td>-0.816497</td>\n",
       "      <td>1.414214</td>\n",
       "      <td>-0.603023</td>\n",
       "      <td>1</td>\n",
       "    </tr>\n",
       "    <tr>\n",
       "      <th>268</th>\n",
       "      <td>1.685057</td>\n",
       "      <td>-0.125132</td>\n",
       "      <td>-0.294884</td>\n",
       "      <td>1.184017</td>\n",
       "      <td>-0.084629</td>\n",
       "      <td>-0.935414</td>\n",
       "      <td>0.935414</td>\n",
       "      <td>-0.935414</td>\n",
       "      <td>-0.5</td>\n",
       "      <td>1.414214</td>\n",
       "      <td>-0.816497</td>\n",
       "      <td>1.414214</td>\n",
       "      <td>-0.603023</td>\n",
       "      <td>2</td>\n",
       "    </tr>\n",
       "    <tr>\n",
       "      <th>293</th>\n",
       "      <td>-0.766265</td>\n",
       "      <td>-0.570517</td>\n",
       "      <td>-1.032094</td>\n",
       "      <td>-0.964007</td>\n",
       "      <td>1.343483</td>\n",
       "      <td>-0.935414</td>\n",
       "      <td>0.935414</td>\n",
       "      <td>-0.935414</td>\n",
       "      <td>-0.5</td>\n",
       "      <td>1.414214</td>\n",
       "      <td>1.224745</td>\n",
       "      <td>-0.707107</td>\n",
       "      <td>-0.603023</td>\n",
       "      <td>3</td>\n",
       "    </tr>\n",
       "    <tr>\n",
       "      <th>332</th>\n",
       "      <td>1.521636</td>\n",
       "      <td>0.224814</td>\n",
       "      <td>-0.294884</td>\n",
       "      <td>1.574567</td>\n",
       "      <td>-0.243308</td>\n",
       "      <td>-0.935414</td>\n",
       "      <td>0.935414</td>\n",
       "      <td>1.069045</td>\n",
       "      <td>-0.5</td>\n",
       "      <td>-0.707107</td>\n",
       "      <td>-0.816497</td>\n",
       "      <td>-0.707107</td>\n",
       "      <td>1.658312</td>\n",
       "      <td>2</td>\n",
       "    </tr>\n",
       "    <tr>\n",
       "      <th>334</th>\n",
       "      <td>-0.820739</td>\n",
       "      <td>-1.047716</td>\n",
       "      <td>-1.032094</td>\n",
       "      <td>-1.012826</td>\n",
       "      <td>1.184804</td>\n",
       "      <td>-0.935414</td>\n",
       "      <td>0.935414</td>\n",
       "      <td>1.069045</td>\n",
       "      <td>-0.5</td>\n",
       "      <td>-0.707107</td>\n",
       "      <td>1.224745</td>\n",
       "      <td>-0.707107</td>\n",
       "      <td>-0.603023</td>\n",
       "      <td>3</td>\n",
       "    </tr>\n",
       "    <tr>\n",
       "      <th>335</th>\n",
       "      <td>-0.711791</td>\n",
       "      <td>-0.793210</td>\n",
       "      <td>-0.294884</td>\n",
       "      <td>-1.012826</td>\n",
       "      <td>0.867446</td>\n",
       "      <td>1.069045</td>\n",
       "      <td>-1.069045</td>\n",
       "      <td>1.069045</td>\n",
       "      <td>-0.5</td>\n",
       "      <td>-0.707107</td>\n",
       "      <td>1.224745</td>\n",
       "      <td>-0.707107</td>\n",
       "      <td>-0.603023</td>\n",
       "      <td>3</td>\n",
       "    </tr>\n",
       "    <tr>\n",
       "      <th>384</th>\n",
       "      <td>-0.548370</td>\n",
       "      <td>2.451740</td>\n",
       "      <td>1.916745</td>\n",
       "      <td>0.598192</td>\n",
       "      <td>-1.354061</td>\n",
       "      <td>1.069045</td>\n",
       "      <td>-1.069045</td>\n",
       "      <td>-0.935414</td>\n",
       "      <td>2.0</td>\n",
       "      <td>-0.707107</td>\n",
       "      <td>-0.816497</td>\n",
       "      <td>-0.707107</td>\n",
       "      <td>1.658312</td>\n",
       "      <td>1</td>\n",
       "    </tr>\n",
       "    <tr>\n",
       "      <th>537</th>\n",
       "      <td>-0.766265</td>\n",
       "      <td>-0.825023</td>\n",
       "      <td>-0.294884</td>\n",
       "      <td>-1.061645</td>\n",
       "      <td>0.391408</td>\n",
       "      <td>1.069045</td>\n",
       "      <td>-1.069045</td>\n",
       "      <td>-0.935414</td>\n",
       "      <td>-0.5</td>\n",
       "      <td>1.414214</td>\n",
       "      <td>1.224745</td>\n",
       "      <td>-0.707107</td>\n",
       "      <td>-0.603023</td>\n",
       "      <td>3</td>\n",
       "    </tr>\n",
       "    <tr>\n",
       "      <th>584</th>\n",
       "      <td>-0.657318</td>\n",
       "      <td>-0.888650</td>\n",
       "      <td>-0.294884</td>\n",
       "      <td>-0.964007</td>\n",
       "      <td>1.026125</td>\n",
       "      <td>1.069045</td>\n",
       "      <td>-1.069045</td>\n",
       "      <td>1.069045</td>\n",
       "      <td>-0.5</td>\n",
       "      <td>-0.707107</td>\n",
       "      <td>1.224745</td>\n",
       "      <td>-0.707107</td>\n",
       "      <td>-0.603023</td>\n",
       "      <td>3</td>\n",
       "    </tr>\n",
       "  </tbody>\n",
       "</table>\n",
       "</div>"
      ],
      "text/plain": [
       "                 Age    Income  HouseholdSize     Sales  StoreVisit    Female  \\\n",
       "CustomerID                                                                      \n",
       "123         1.249267 -0.093319      -0.294884  1.379292   -0.560666 -0.935414   \n",
       "154        -0.875213 -0.856837      -1.032094 -1.100700    0.708767 -0.935414   \n",
       "166         1.902952  0.002121      -0.294884  1.281654   -0.401987 -0.935414   \n",
       "170        -0.058105  1.338277       1.916745  0.305280   -1.512741  1.069045   \n",
       "198        -0.167053  1.179211       1.179536  0.207642   -1.195382  1.069045   \n",
       "222        -0.875213 -0.856837      -1.032094 -0.817551    1.184804 -0.935414   \n",
       "239        -0.112579  0.861078       1.179536  0.402917   -1.354061  1.069045   \n",
       "268         1.685057 -0.125132      -0.294884  1.184017   -0.084629 -0.935414   \n",
       "293        -0.766265 -0.570517      -1.032094 -0.964007    1.343483 -0.935414   \n",
       "332         1.521636  0.224814      -0.294884  1.574567   -0.243308 -0.935414   \n",
       "334        -0.820739 -1.047716      -1.032094 -1.012826    1.184804 -0.935414   \n",
       "335        -0.711791 -0.793210      -0.294884 -1.012826    0.867446  1.069045   \n",
       "384        -0.548370  2.451740       1.916745  0.598192   -1.354061  1.069045   \n",
       "537        -0.766265 -0.825023      -0.294884 -1.061645    0.391408  1.069045   \n",
       "584        -0.657318 -0.888650      -0.294884 -0.964007    1.026125  1.069045   \n",
       "\n",
       "                Male      Cash  Credit     Debit      Beer    Spirit  \\\n",
       "CustomerID                                                             \n",
       "123         0.935414  1.069045    -0.5 -0.707107 -0.816497  1.414214   \n",
       "154         0.935414 -0.935414    -0.5  1.414214  1.224745 -0.707107   \n",
       "166         0.935414  1.069045    -0.5 -0.707107 -0.816497  1.414214   \n",
       "170        -1.069045 -0.935414     2.0 -0.707107 -0.816497 -0.707107   \n",
       "198        -1.069045 -0.935414    -0.5  1.414214 -0.816497 -0.707107   \n",
       "222         0.935414  1.069045    -0.5 -0.707107 -0.816497  1.414214   \n",
       "239        -1.069045 -0.935414     2.0 -0.707107 -0.816497  1.414214   \n",
       "268         0.935414 -0.935414    -0.5  1.414214 -0.816497  1.414214   \n",
       "293         0.935414 -0.935414    -0.5  1.414214  1.224745 -0.707107   \n",
       "332         0.935414  1.069045    -0.5 -0.707107 -0.816497 -0.707107   \n",
       "334         0.935414  1.069045    -0.5 -0.707107  1.224745 -0.707107   \n",
       "335        -1.069045  1.069045    -0.5 -0.707107  1.224745 -0.707107   \n",
       "384        -1.069045 -0.935414     2.0 -0.707107 -0.816497 -0.707107   \n",
       "537        -1.069045 -0.935414    -0.5  1.414214  1.224745 -0.707107   \n",
       "584        -1.069045  1.069045    -0.5 -0.707107  1.224745 -0.707107   \n",
       "\n",
       "                Wine  cluster_label  \n",
       "CustomerID                           \n",
       "123        -0.603023              2  \n",
       "154        -0.603023              3  \n",
       "166        -0.603023              2  \n",
       "170         1.658312              1  \n",
       "198         1.658312              1  \n",
       "222        -0.603023              3  \n",
       "239        -0.603023              1  \n",
       "268        -0.603023              2  \n",
       "293        -0.603023              3  \n",
       "332         1.658312              2  \n",
       "334        -0.603023              3  \n",
       "335        -0.603023              3  \n",
       "384         1.658312              1  \n",
       "537        -0.603023              3  \n",
       "584        -0.603023              3  "
      ]
     },
     "execution_count": 57,
     "metadata": {},
     "output_type": "execute_result"
    }
   ],
   "source": [
    "#Pick a distance threshold based on the dendrogram, and argue why it is a reasonable threshold\n",
    "cluster_labels = sph.fcluster(Z_filt, 7.0, criterion='distance')\n",
    "df_filt['cluster_label'] = cluster_labels\n",
    "df_filt"
   ]
  },
  {
   "cell_type": "markdown",
   "metadata": {},
   "source": [
    "7.0 is a reasonable threshold because looking at the dendrogram there are clearly 3 clusters and 7.0 identifies the three clusters with the same number of customers in each as seen on the dendrogram."
   ]
  },
  {
   "cell_type": "code",
   "execution_count": 11,
   "metadata": {
    "collapsed": true
   },
   "outputs": [],
   "source": [
    "#Given the selected threshold, for each cluster, report which customers (CustomerID) fall in the cluster.\n",
    "#For example, \"Cluster 1 has three customers: 123, 154, 166; ....\"."
   ]
  },
  {
   "cell_type": "markdown",
   "metadata": {},
   "source": [
    "Cluster 1 has 4 customers: 170, 198, 239, 384\n",
    "\n",
    "Cluster 2 has 4 customers: 123, 166, 268, 332\n",
    "\n",
    "Cluster 3 has 7 customers: 154, 222, 293, 334, 335, 537, 584\n",
    "\n"
   ]
  },
  {
   "cell_type": "code",
   "execution_count": 12,
   "metadata": {
    "collapsed": false
   },
   "outputs": [
    {
     "data": {
      "text/plain": [
       "0.77306299603876349"
      ]
     },
     "execution_count": 12,
     "metadata": {},
     "output_type": "execute_result"
    }
   ],
   "source": [
    "#Evaluate the clustering result using an appropriate metric. \n",
    "#Hint: there is no ground truth for this problem, so you may want to choose an evaluation measurement accordingly\n",
    "metrics = ['Age', 'Income', 'HouseholdSize', 'Sales', 'StoreVisit']\n",
    "X = df_filt[metrics]  # Use all four metrics for the iris dataset\n",
    "kmeans_model = skc.KMeans(n_clusters=3, random_state=0).fit(X)\n",
    "silh_score = skm.silhouette_score(X, kmeans_model.labels_)\n",
    "silh_score  # the Silhouette coefficient"
   ]
  },
  {
   "cell_type": "markdown",
   "metadata": {},
   "source": [
    "(f) Perform k-means clustering on the customers. Use k = 2, 3, 4, and 5 respectively."
   ]
  },
  {
   "cell_type": "code",
   "execution_count": 13,
   "metadata": {
    "collapsed": false
   },
   "outputs": [
    {
     "data": {
      "image/png": "[encoded data removed]",
      "text/plain": [
       "<matplotlib.figure.Figure at 0x10aa50c18>"
      ]
     },
     "metadata": {},
     "output_type": "display_data"
    }
   ],
   "source": [
    "#Create a scatterplot for each k setting, showing the data points and cluster centroids.\n",
    "#Use PCA for dimensionality reduction.\n",
    "\n",
    "# PCA for dimensionality reduction\n",
    "pca = skd.PCA(n_components=2)\n",
    "filt_pca = pca.fit_transform(df_filt)\n",
    "\n",
    "# K-means\n",
    "kmeans_model = skc.KMeans(2).fit(df_filt)\n",
    "centroids = kmeans_model.cluster_centers_\n",
    "centroids_pca = pca.transform(centroids)\n",
    "cluster_labels = kmeans_model.labels_\n",
    "\n",
    "# Plot the results on 2-D scatterplot with cluster centroids\n",
    "plt.scatter(filt_pca[cluster_labels==0,0], \n",
    "            filt_pca[cluster_labels==0,1],\n",
    "            s=100, color='b')\n",
    "plt.scatter(filt_pca[cluster_labels==1,0], \n",
    "            filt_pca[cluster_labels==1,1],\n",
    "            s=100, color='g')\n",
    "plt.scatter(centroids_pca[:,0], centroids_pca[:,1], marker='+', s=200,\n",
    "            linewidths=2, color='r')\n",
    "plt.title('k-means (k=2) displayed with PCA', fontsize=15);\n"
   ]
  },
  {
   "cell_type": "code",
   "execution_count": 14,
   "metadata": {
    "collapsed": false
   },
   "outputs": [
    {
     "data": {
      "image/png": "[encoded data removed]",
      "text/plain": [
       "<matplotlib.figure.Figure at 0x10ab73780>"
      ]
     },
     "metadata": {},
     "output_type": "display_data"
    }
   ],
   "source": [
    "# PCA for dimensionality reduction\n",
    "pca = skd.PCA(n_components=3)\n",
    "filt_pca = pca.fit_transform(df_filt)\n",
    "\n",
    "# K-means\n",
    "kmeans_model = skc.KMeans(3).fit(df_filt)\n",
    "centroids = kmeans_model.cluster_centers_\n",
    "centroids_pca = pca.transform(centroids)\n",
    "cluster_labels = kmeans_model.labels_\n",
    "\n",
    "# Plot the results on 2-D scatterplot with cluster centroids\n",
    "plt.scatter(filt_pca[cluster_labels==0,0], \n",
    "            filt_pca[cluster_labels==0,1],\n",
    "            s=100, color='b')\n",
    "plt.scatter(filt_pca[cluster_labels==1,0], \n",
    "            filt_pca[cluster_labels==1,1],\n",
    "            s=100, color='g')\n",
    "plt.scatter(centroids_pca[:,0], centroids_pca[:,1], marker='+', s=200,\n",
    "            linewidths=2, color='r')\n",
    "plt.title('k-means (k=3) displayed with PCA', fontsize=15);"
   ]
  },
  {
   "cell_type": "code",
   "execution_count": 15,
   "metadata": {
    "collapsed": false
   },
   "outputs": [
    {
     "data": {
      "image/png": "[encoded data removed]",
      "text/plain": [
       "<matplotlib.figure.Figure at 0x10ab73710>"
      ]
     },
     "metadata": {},
     "output_type": "display_data"
    }
   ],
   "source": [
    "# PCA for dimensionality reduction\n",
    "pca = skd.PCA(n_components=4)\n",
    "filt_pca = pca.fit_transform(df_filt)\n",
    "\n",
    "# K-means\n",
    "kmeans_model = skc.KMeans(4).fit(df_filt)\n",
    "centroids = kmeans_model.cluster_centers_\n",
    "centroids_pca = pca.transform(centroids)\n",
    "cluster_labels = kmeans_model.labels_\n",
    "\n",
    "# Plot the results on 2-D scatterplot with cluster centroids\n",
    "plt.scatter(filt_pca[cluster_labels==0,0], \n",
    "            filt_pca[cluster_labels==0,1],\n",
    "            s=100, color='b')\n",
    "plt.scatter(filt_pca[cluster_labels==1,0], \n",
    "            filt_pca[cluster_labels==1,1],\n",
    "            s=100, color='g')\n",
    "plt.scatter(centroids_pca[:,0], centroids_pca[:,1], marker='+', s=200,\n",
    "            linewidths=2, color='r')\n",
    "plt.title('k-means (k=4) displayed with PCA', fontsize=15);"
   ]
  },
  {
   "cell_type": "code",
   "execution_count": 16,
   "metadata": {
    "collapsed": false
   },
   "outputs": [
    {
     "data": {
      "image/png": "[encoded data removed]",
      "text/plain": [
       "<matplotlib.figure.Figure at 0x10ab73940>"
      ]
     },
     "metadata": {},
     "output_type": "display_data"
    }
   ],
   "source": [
    "# PCA for dimensionality reduction\n",
    "pca = skd.PCA(n_components=5)\n",
    "filt_pca = pca.fit_transform(df_filt)\n",
    "\n",
    "# K-means\n",
    "kmeans_model = skc.KMeans(5).fit(df_filt)\n",
    "centroids = kmeans_model.cluster_centers_\n",
    "centroids_pca = pca.transform(centroids)\n",
    "cluster_labels = kmeans_model.labels_\n",
    "\n",
    "# Plot the results on 2-D scatterplot with cluster centroids\n",
    "plt.scatter(filt_pca[cluster_labels==0,0], \n",
    "            filt_pca[cluster_labels==0,1],\n",
    "            s=100, color='b')\n",
    "plt.scatter(filt_pca[cluster_labels==1,0], \n",
    "            filt_pca[cluster_labels==1,1],\n",
    "            s=100, color='g')\n",
    "plt.scatter(centroids_pca[:,0], centroids_pca[:,1], marker='+', s=200,\n",
    "            linewidths=2, color='r')\n",
    "plt.title('k-means (k=5) displayed with PCA', fontsize=15);"
   ]
  },
  {
   "cell_type": "code",
   "execution_count": 17,
   "metadata": {
    "collapsed": true
   },
   "outputs": [],
   "source": [
    "#Evaluate the clustering results for each k setting using an appropriate metric."
   ]
  },
  {
   "cell_type": "code",
   "execution_count": 18,
   "metadata": {
    "collapsed": false
   },
   "outputs": [
    {
     "data": {
      "text/plain": [
       "0.61192209640659345"
      ]
     },
     "execution_count": 18,
     "metadata": {},
     "output_type": "execute_result"
    }
   ],
   "source": [
    "metrics = ['Age', 'Income', 'HouseholdSize', 'Sales', 'StoreVisit']\n",
    "X = df_filt[metrics]  # Use all four metrics for the iris dataset\n",
    "kmeans_model = skc.KMeans(n_clusters=2, random_state=0).fit(X)\n",
    "silh_score = skm.silhouette_score(X, kmeans_model.labels_)\n",
    "silh_score  # the Silhouette coefficient"
   ]
  },
  {
   "cell_type": "code",
   "execution_count": 19,
   "metadata": {
    "collapsed": false
   },
   "outputs": [
    {
     "data": {
      "text/plain": [
       "0.77306299603876349"
      ]
     },
     "execution_count": 19,
     "metadata": {},
     "output_type": "execute_result"
    }
   ],
   "source": [
    "metrics = ['Age', 'Income', 'HouseholdSize', 'Sales', 'StoreVisit']\n",
    "X = df_filt[metrics]  # Use all four metrics for the iris dataset\n",
    "kmeans_model = skc.KMeans(n_clusters=3, random_state=0).fit(X)\n",
    "silh_score = skm.silhouette_score(X, kmeans_model.labels_)\n",
    "silh_score  # the Silhouette coefficient"
   ]
  },
  {
   "cell_type": "code",
   "execution_count": 20,
   "metadata": {
    "collapsed": false
   },
   "outputs": [
    {
     "data": {
      "text/plain": [
       "0.6959795050064348"
      ]
     },
     "execution_count": 20,
     "metadata": {},
     "output_type": "execute_result"
    }
   ],
   "source": [
    "metrics = ['Age', 'Income', 'HouseholdSize', 'Sales', 'StoreVisit']\n",
    "X = df_filt[metrics]  # Use all four metrics for the iris dataset\n",
    "kmeans_model = skc.KMeans(n_clusters=4, random_state=0).fit(X)\n",
    "silh_score = skm.silhouette_score(X, kmeans_model.labels_)\n",
    "silh_score  # the Silhouette coefficient"
   ]
  },
  {
   "cell_type": "code",
   "execution_count": 21,
   "metadata": {
    "collapsed": false
   },
   "outputs": [
    {
     "data": {
      "text/plain": [
       "0.54477691599900679"
      ]
     },
     "execution_count": 21,
     "metadata": {},
     "output_type": "execute_result"
    }
   ],
   "source": [
    "metrics = ['Age', 'Income', 'HouseholdSize', 'Sales', 'StoreVisit']\n",
    "X = df_filt[metrics]  # Use all four metrics for the iris dataset\n",
    "kmeans_model = skc.KMeans(n_clusters=5, random_state=0).fit(X)\n",
    "silh_score = skm.silhouette_score(X, kmeans_model.labels_)\n",
    "silh_score  # the Silhouette coefficient"
   ]
  },
  {
   "cell_type": "code",
   "execution_count": 22,
   "metadata": {
    "collapsed": true
   },
   "outputs": [],
   "source": [
    "#Determine the best k using at least two approaches introduced in Lab 7."
   ]
  },
  {
   "cell_type": "code",
   "execution_count": 23,
   "metadata": {
    "collapsed": false
   },
   "outputs": [
    {
     "data": {
      "text/plain": [
       "3.0"
      ]
     },
     "execution_count": 23,
     "metadata": {},
     "output_type": "execute_result"
    }
   ],
   "source": [
    "#Rule of thumb\n",
    "np.sqrt(len(df_filt) / 2)\n",
    "np.round(np.sqrt(len(df_filt) / 2))"
   ]
  },
  {
   "cell_type": "code",
   "execution_count": 24,
   "metadata": {
    "collapsed": false
   },
   "outputs": [
    {
     "data": {
      "text/plain": [
       "<matplotlib.text.Text at 0x10afe5c88>"
      ]
     },
     "execution_count": 24,
     "metadata": {},
     "output_type": "execute_result"
    },
    {
     "data": {
      "image/png": "[encoded data removed]",
      "text/plain": [
       "<matplotlib.figure.Figure at 0x10acb55f8>"
      ]
     },
     "metadata": {},
     "output_type": "display_data"
    }
   ],
   "source": [
    "#Information Criterion Approach\n",
    "X = df_filt\n",
    "K = range(1,11)\n",
    "gmms = [skmix.GMM(k).fit(X) for k in K]\n",
    "bics = [g.bic(X) for g in gmms]\n",
    "plt.plot(K, bics)\n",
    "kIdx = np.argmin(bics)  # <-- the selected index\n",
    "plt.plot(K[kIdx], bics[kIdx], marker='o', markersize=12, \n",
    "      markeredgewidth=2, markeredgecolor='r', markerfacecolor='None')\n",
    "plt.ylim(0,plt.ylim()[1])\n",
    "plt.xlabel('Number of clusters')\n",
    "plt.ylabel('BIC')\n",
    "plt.title('Bayesian Information Criterion')"
   ]
  },
  {
   "cell_type": "markdown",
   "metadata": {},
   "source": [
    "The best k is clearly 3 as determined by the Rule of Thumb and Information Criterion approaches."
   ]
  },
  {
   "cell_type": "markdown",
   "metadata": {},
   "source": [
    "(g) Given the following ground truth of clustering, evaluate the above k-means clustering result again (use k=3 only). Use at least two appropriate measurements."
   ]
  },
  {
   "cell_type": "code",
   "execution_count": 25,
   "metadata": {
    "collapsed": false
   },
   "outputs": [
    {
     "data": {
      "text/plain": [
       "array([[  1.58972795e+00,   2.12088243e-03,  -2.94883912e-01,\n",
       "          1.35488253e+00,  -3.22647467e-01,  -9.35414347e-01,\n",
       "          9.35414347e-01,   5.67930139e-01,  -5.00000000e-01,\n",
       "         -1.76776695e-01,  -8.16496581e-01,   8.83883476e-01,\n",
       "         -3.76889181e-02,   2.00000000e+00],\n",
       "       [ -7.81829164e-01,  -8.34112760e-01,  -7.16146644e-01,\n",
       "         -9.90508819e-01,   9.58119409e-01,  -7.63603548e-02,\n",
       "          7.63603548e-02,   2.09990976e-01,  -5.00000000e-01,\n",
       "          2.02030509e-01,   9.33138950e-01,  -4.04061018e-01,\n",
       "         -6.03022689e-01,   3.00000000e+00],\n",
       "       [ -2.21526910e-01,   1.45757645e+00,   1.54814054e+00,\n",
       "          3.78507900e-01,  -1.35406150e+00,   1.06904497e+00,\n",
       "         -1.06904497e+00,  -9.35414347e-01,   1.37500000e+00,\n",
       "         -1.76776695e-01,  -8.16496581e-01,  -1.76776695e-01,\n",
       "          1.09297862e+00,   1.00000000e+00]])"
      ]
     },
     "execution_count": 25,
     "metadata": {},
     "output_type": "execute_result"
    }
   ],
   "source": [
    "#Perform k-means using scikit-learn package\n",
    "kmeans_model = skc.KMeans(n_clusters=3)\n",
    "kmeans_model.fit(df_filt)\n",
    "centroids = kmeans_model.cluster_centers_\n",
    "centroids"
   ]
  },
  {
   "cell_type": "code",
   "execution_count": 26,
   "metadata": {
    "collapsed": false
   },
   "outputs": [
    {
     "data": {
      "text/plain": [
       "array([0, 1, 0, 2, 2, 1, 2, 0, 1, 0, 1, 1, 2, 1, 1], dtype=int32)"
      ]
     },
     "execution_count": 26,
     "metadata": {},
     "output_type": "execute_result"
    }
   ],
   "source": [
    "kmeans_model.labels_"
   ]
  },
  {
   "cell_type": "code",
   "execution_count": 46,
   "metadata": {
    "collapsed": false
   },
   "outputs": [
    {
     "data": {
      "text/plain": [
       "1.0"
      ]
     },
     "execution_count": 46,
     "metadata": {},
     "output_type": "execute_result"
    }
   ],
   "source": [
    "ground_truth = [[170, 198, 239, 384],\n",
    "                [123, 166, 268, 332],\n",
    "                [154, 222, 293, 334, 335, 537, 584]]\n",
    "\n",
    "df_truth = pd.DataFrame(\n",
    "            [(x,i) for i,c in enumerate(ground_truth) for x in c], \n",
    "            columns=['CustomerID','GroundTruth'])\n",
    "df_truth.set_index('CustomerID', inplace=True)\n",
    "df_truth = df_truth.sort_index()\n",
    "labels_truth = df_truth['GroundTruth']\n",
    "\n",
    "labels_predicted = kmeans_model.labels_\n",
    "skm.adjusted_rand_score(labels_truth, labels_predicted)"
   ]
  },
  {
   "cell_type": "code",
   "execution_count": 34,
   "metadata": {
    "collapsed": false
   },
   "outputs": [
    {
     "name": "stdout",
     "output_type": "stream",
     "text": [
      "1.0\n"
     ]
    }
   ],
   "source": [
    "print(skm.normalized_mutual_info_score(labels_truth, labels_predicted))"
   ]
  },
  {
   "cell_type": "markdown",
   "metadata": {},
   "source": [
    "# 2. Open-Ended Analysis"
   ]
  },
  {
   "cell_type": "markdown",
   "metadata": {},
   "source": [
    "(a) Explore the characteristics of the customers that fall in each cluster, using the ground-truth clusters or any of the clustering results you obtained in 1(e) or 1(f)"
   ]
  },
  {
   "cell_type": "code",
   "execution_count": 58,
   "metadata": {
    "collapsed": false
   },
   "outputs": [
    {
     "data": {
      "text/html": [
       "<div>\n",
       "<table border=\"1\" class=\"dataframe\">\n",
       "  <thead>\n",
       "    <tr style=\"text-align: right;\">\n",
       "      <th></th>\n",
       "      <th>Age</th>\n",
       "      <th>Income</th>\n",
       "      <th>HouseholdSize</th>\n",
       "      <th>Sales</th>\n",
       "      <th>StoreVisit</th>\n",
       "      <th>Female</th>\n",
       "      <th>Male</th>\n",
       "      <th>Cash</th>\n",
       "      <th>Credit</th>\n",
       "      <th>Debit</th>\n",
       "      <th>Beer</th>\n",
       "      <th>Spirit</th>\n",
       "      <th>Wine</th>\n",
       "      <th>cluster_label</th>\n",
       "    </tr>\n",
       "    <tr>\n",
       "      <th>CustomerID</th>\n",
       "      <th></th>\n",
       "      <th></th>\n",
       "      <th></th>\n",
       "      <th></th>\n",
       "      <th></th>\n",
       "      <th></th>\n",
       "      <th></th>\n",
       "      <th></th>\n",
       "      <th></th>\n",
       "      <th></th>\n",
       "      <th></th>\n",
       "      <th></th>\n",
       "      <th></th>\n",
       "      <th></th>\n",
       "    </tr>\n",
       "  </thead>\n",
       "  <tbody>\n",
       "    <tr>\n",
       "      <th>123</th>\n",
       "      <td>60</td>\n",
       "      <td>45000</td>\n",
       "      <td>2</td>\n",
       "      <td>300</td>\n",
       "      <td>10</td>\n",
       "      <td>0</td>\n",
       "      <td>1</td>\n",
       "      <td>1</td>\n",
       "      <td>0</td>\n",
       "      <td>0</td>\n",
       "      <td>0</td>\n",
       "      <td>1</td>\n",
       "      <td>0</td>\n",
       "      <td>2</td>\n",
       "    </tr>\n",
       "    <tr>\n",
       "      <th>154</th>\n",
       "      <td>21</td>\n",
       "      <td>21000</td>\n",
       "      <td>1</td>\n",
       "      <td>46</td>\n",
       "      <td>18</td>\n",
       "      <td>0</td>\n",
       "      <td>1</td>\n",
       "      <td>0</td>\n",
       "      <td>0</td>\n",
       "      <td>1</td>\n",
       "      <td>1</td>\n",
       "      <td>0</td>\n",
       "      <td>0</td>\n",
       "      <td>3</td>\n",
       "    </tr>\n",
       "    <tr>\n",
       "      <th>166</th>\n",
       "      <td>72</td>\n",
       "      <td>48000</td>\n",
       "      <td>2</td>\n",
       "      <td>290</td>\n",
       "      <td>11</td>\n",
       "      <td>0</td>\n",
       "      <td>1</td>\n",
       "      <td>1</td>\n",
       "      <td>0</td>\n",
       "      <td>0</td>\n",
       "      <td>0</td>\n",
       "      <td>1</td>\n",
       "      <td>0</td>\n",
       "      <td>2</td>\n",
       "    </tr>\n",
       "    <tr>\n",
       "      <th>170</th>\n",
       "      <td>36</td>\n",
       "      <td>90000</td>\n",
       "      <td>5</td>\n",
       "      <td>190</td>\n",
       "      <td>4</td>\n",
       "      <td>1</td>\n",
       "      <td>0</td>\n",
       "      <td>0</td>\n",
       "      <td>1</td>\n",
       "      <td>0</td>\n",
       "      <td>0</td>\n",
       "      <td>0</td>\n",
       "      <td>1</td>\n",
       "      <td>1</td>\n",
       "    </tr>\n",
       "    <tr>\n",
       "      <th>198</th>\n",
       "      <td>34</td>\n",
       "      <td>85000</td>\n",
       "      <td>4</td>\n",
       "      <td>180</td>\n",
       "      <td>6</td>\n",
       "      <td>1</td>\n",
       "      <td>0</td>\n",
       "      <td>0</td>\n",
       "      <td>0</td>\n",
       "      <td>1</td>\n",
       "      <td>0</td>\n",
       "      <td>0</td>\n",
       "      <td>1</td>\n",
       "      <td>1</td>\n",
       "    </tr>\n",
       "    <tr>\n",
       "      <th>222</th>\n",
       "      <td>21</td>\n",
       "      <td>21000</td>\n",
       "      <td>1</td>\n",
       "      <td>75</td>\n",
       "      <td>21</td>\n",
       "      <td>0</td>\n",
       "      <td>1</td>\n",
       "      <td>1</td>\n",
       "      <td>0</td>\n",
       "      <td>0</td>\n",
       "      <td>0</td>\n",
       "      <td>1</td>\n",
       "      <td>0</td>\n",
       "      <td>3</td>\n",
       "    </tr>\n",
       "    <tr>\n",
       "      <th>239</th>\n",
       "      <td>35</td>\n",
       "      <td>75000</td>\n",
       "      <td>4</td>\n",
       "      <td>200</td>\n",
       "      <td>5</td>\n",
       "      <td>1</td>\n",
       "      <td>0</td>\n",
       "      <td>0</td>\n",
       "      <td>1</td>\n",
       "      <td>0</td>\n",
       "      <td>0</td>\n",
       "      <td>1</td>\n",
       "      <td>0</td>\n",
       "      <td>1</td>\n",
       "    </tr>\n",
       "    <tr>\n",
       "      <th>268</th>\n",
       "      <td>68</td>\n",
       "      <td>44000</td>\n",
       "      <td>2</td>\n",
       "      <td>280</td>\n",
       "      <td>13</td>\n",
       "      <td>0</td>\n",
       "      <td>1</td>\n",
       "      <td>0</td>\n",
       "      <td>0</td>\n",
       "      <td>1</td>\n",
       "      <td>0</td>\n",
       "      <td>1</td>\n",
       "      <td>0</td>\n",
       "      <td>2</td>\n",
       "    </tr>\n",
       "    <tr>\n",
       "      <th>293</th>\n",
       "      <td>23</td>\n",
       "      <td>30000</td>\n",
       "      <td>1</td>\n",
       "      <td>60</td>\n",
       "      <td>22</td>\n",
       "      <td>0</td>\n",
       "      <td>1</td>\n",
       "      <td>0</td>\n",
       "      <td>0</td>\n",
       "      <td>1</td>\n",
       "      <td>1</td>\n",
       "      <td>0</td>\n",
       "      <td>0</td>\n",
       "      <td>3</td>\n",
       "    </tr>\n",
       "    <tr>\n",
       "      <th>332</th>\n",
       "      <td>65</td>\n",
       "      <td>55000</td>\n",
       "      <td>2</td>\n",
       "      <td>320</td>\n",
       "      <td>12</td>\n",
       "      <td>0</td>\n",
       "      <td>1</td>\n",
       "      <td>1</td>\n",
       "      <td>0</td>\n",
       "      <td>0</td>\n",
       "      <td>0</td>\n",
       "      <td>0</td>\n",
       "      <td>1</td>\n",
       "      <td>2</td>\n",
       "    </tr>\n",
       "    <tr>\n",
       "      <th>334</th>\n",
       "      <td>22</td>\n",
       "      <td>15000</td>\n",
       "      <td>1</td>\n",
       "      <td>55</td>\n",
       "      <td>21</td>\n",
       "      <td>0</td>\n",
       "      <td>1</td>\n",
       "      <td>1</td>\n",
       "      <td>0</td>\n",
       "      <td>0</td>\n",
       "      <td>1</td>\n",
       "      <td>0</td>\n",
       "      <td>0</td>\n",
       "      <td>3</td>\n",
       "    </tr>\n",
       "    <tr>\n",
       "      <th>335</th>\n",
       "      <td>24</td>\n",
       "      <td>23000</td>\n",
       "      <td>2</td>\n",
       "      <td>55</td>\n",
       "      <td>19</td>\n",
       "      <td>1</td>\n",
       "      <td>0</td>\n",
       "      <td>1</td>\n",
       "      <td>0</td>\n",
       "      <td>0</td>\n",
       "      <td>1</td>\n",
       "      <td>0</td>\n",
       "      <td>0</td>\n",
       "      <td>3</td>\n",
       "    </tr>\n",
       "    <tr>\n",
       "      <th>384</th>\n",
       "      <td>27</td>\n",
       "      <td>125000</td>\n",
       "      <td>5</td>\n",
       "      <td>220</td>\n",
       "      <td>5</td>\n",
       "      <td>1</td>\n",
       "      <td>0</td>\n",
       "      <td>0</td>\n",
       "      <td>1</td>\n",
       "      <td>0</td>\n",
       "      <td>0</td>\n",
       "      <td>0</td>\n",
       "      <td>1</td>\n",
       "      <td>1</td>\n",
       "    </tr>\n",
       "    <tr>\n",
       "      <th>537</th>\n",
       "      <td>23</td>\n",
       "      <td>22000</td>\n",
       "      <td>2</td>\n",
       "      <td>50</td>\n",
       "      <td>16</td>\n",
       "      <td>1</td>\n",
       "      <td>0</td>\n",
       "      <td>0</td>\n",
       "      <td>0</td>\n",
       "      <td>1</td>\n",
       "      <td>1</td>\n",
       "      <td>0</td>\n",
       "      <td>0</td>\n",
       "      <td>3</td>\n",
       "    </tr>\n",
       "    <tr>\n",
       "      <th>584</th>\n",
       "      <td>25</td>\n",
       "      <td>20000</td>\n",
       "      <td>2</td>\n",
       "      <td>60</td>\n",
       "      <td>20</td>\n",
       "      <td>1</td>\n",
       "      <td>0</td>\n",
       "      <td>1</td>\n",
       "      <td>0</td>\n",
       "      <td>0</td>\n",
       "      <td>1</td>\n",
       "      <td>0</td>\n",
       "      <td>0</td>\n",
       "      <td>3</td>\n",
       "    </tr>\n",
       "  </tbody>\n",
       "</table>\n",
       "</div>"
      ],
      "text/plain": [
       "            Age  Income  HouseholdSize  Sales  StoreVisit  Female  Male  Cash  \\\n",
       "CustomerID                                                                      \n",
       "123          60   45000              2    300          10       0     1     1   \n",
       "154          21   21000              1     46          18       0     1     0   \n",
       "166          72   48000              2    290          11       0     1     1   \n",
       "170          36   90000              5    190           4       1     0     0   \n",
       "198          34   85000              4    180           6       1     0     0   \n",
       "222          21   21000              1     75          21       0     1     1   \n",
       "239          35   75000              4    200           5       1     0     0   \n",
       "268          68   44000              2    280          13       0     1     0   \n",
       "293          23   30000              1     60          22       0     1     0   \n",
       "332          65   55000              2    320          12       0     1     1   \n",
       "334          22   15000              1     55          21       0     1     1   \n",
       "335          24   23000              2     55          19       1     0     1   \n",
       "384          27  125000              5    220           5       1     0     0   \n",
       "537          23   22000              2     50          16       1     0     0   \n",
       "584          25   20000              2     60          20       1     0     1   \n",
       "\n",
       "            Credit  Debit  Beer  Spirit  Wine  cluster_label  \n",
       "CustomerID                                                    \n",
       "123              0      0     0       1     0              2  \n",
       "154              0      1     1       0     0              3  \n",
       "166              0      0     0       1     0              2  \n",
       "170              1      0     0       0     1              1  \n",
       "198              0      1     0       0     1              1  \n",
       "222              0      0     0       1     0              3  \n",
       "239              1      0     0       1     0              1  \n",
       "268              0      1     0       1     0              2  \n",
       "293              0      1     1       0     0              3  \n",
       "332              0      0     0       0     1              2  \n",
       "334              0      0     1       0     0              3  \n",
       "335              0      0     1       0     0              3  \n",
       "384              1      0     0       0     1              1  \n",
       "537              0      1     1       0     0              3  \n",
       "584              0      0     1       0     0              3  "
      ]
     },
     "execution_count": 58,
     "metadata": {},
     "output_type": "execute_result"
    }
   ],
   "source": [
    "df_binary = pd.concat((df_filt_2, df_filt['cluster_label']), axis=1)\n",
    "df_binary"
   ]
  },
  {
   "cell_type": "code",
   "execution_count": 63,
   "metadata": {
    "collapsed": false
   },
   "outputs": [
    {
     "data": {
      "text/plain": [
       "<matplotlib.axes._subplots.AxesSubplot at 0x10b7936d8>"
      ]
     },
     "execution_count": 63,
     "metadata": {},
     "output_type": "execute_result"
    },
    {
     "data": {
      "image/png": "[encoded data removed]",
      "text/plain": [
       "<matplotlib.figure.Figure at 0x10b77ceb8>"
      ]
     },
     "metadata": {},
     "output_type": "display_data"
    }
   ],
   "source": [
    "df_age = df_binary.sort(['Age'])\n",
    "\n",
    "sns.barplot(x='Age', y='StoreVisit', data=df_age, hue='cluster_label')\n",
    "plt.title(\"Number of Store Visits by Age\")"
   ]
  },
  {
   "cell_type": "markdown",
   "metadata": {},
   "source": [
    "This barplot shows the number of Store Visits by Age, grouped by cluster. It shows that cluster 3 has the highest number of store visits"
   ]
  },
  {
   "cell_type": "code",
   "execution_count": 68,
   "metadata": {
    "collapsed": false
   },
   "outputs": [
    {
     "data": {
      "text/plain": [
       "<matplotlib.text.Text at 0x10bfc7908>"
      ]
     },
     "execution_count": 68,
     "metadata": {},
     "output_type": "execute_result"
    },
    {
     "data": {
      "image/png": "[encoded data removed]",
      "text/plain": [
       "<matplotlib.figure.Figure at 0x10bf5bc50>"
      ]
     },
     "metadata": {},
     "output_type": "display_data"
    }
   ],
   "source": [
    "sns.barplot(x='Age', y='Sales', data=df_age, hue='cluster_label')\n",
    "plt.title(\"Number of Sales by Age\")"
   ]
  },
  {
   "cell_type": "markdown",
   "metadata": {},
   "source": [
    "This barplot shows the Number of Sales by Age, grouped by cluster. It shows that Cluster two has the highest number of sales."
   ]
  },
  {
   "cell_type": "code",
   "execution_count": 69,
   "metadata": {
    "collapsed": false
   },
   "outputs": [
    {
     "data": {
      "text/plain": [
       "<matplotlib.text.Text at 0x10c30acf8>"
      ]
     },
     "execution_count": 69,
     "metadata": {},
     "output_type": "execute_result"
    },
    {
     "data": {
      "image/png": "[encoded data removed]",
      "text/plain": [
       "<matplotlib.figure.Figure at 0x10c2b0e80>"
      ]
     },
     "metadata": {},
     "output_type": "display_data"
    }
   ],
   "source": [
    "sns.barplot(x='Age', y='Income', data=df_age, hue='cluster_label')\n",
    "plt.title(\"Income by Age\")"
   ]
  },
  {
   "cell_type": "markdown",
   "metadata": {},
   "source": [
    "This barplot shows the Income by Age, grouped by cluster. It shows that cluser 1 has the highest income followed by cluster 2 with the second-highest."
   ]
  },
  {
   "cell_type": "markdown",
   "metadata": {},
   "source": [
    "Cluster 1 has the lowest number of Store Visits, the medium number of Sales, and the highest income.\n",
    "\n",
    "Cluster 2 has the middle number of Store Visits, the highest number of Sales and the middle income. This shows that the oldest age group is spending the most.\n",
    "\n",
    "Cluster 3 has the highest number of Store Visits but the lowest number of Sales and the lowest income. This shows that the youngest age group is frequenting the store the most but spending the least. "
   ]
  },
  {
   "cell_type": "markdown",
   "metadata": {},
   "source": [
    "(b) Based on your analysis, recommend at least two strategies for improving your company's alcohol sales in this region."
   ]
  },
  {
   "cell_type": "markdown",
   "metadata": {},
   "source": [
    "Cluster 1 has the highest income but has the middle amount of sales. The store should spend more time targeting this age group because they have the highest and probably most disposable income. Cluster 2 already has the highest number of sales, so the store does not need to focus on this group. Cluster 3 spends the least on alcohol and also has the lowest income. The company should take this into consideration because cluster 3 clearly cannot afford to spend a lot of money on alcohol, so the company may benefit by stocking some inexpensive alcohol for these particular customers."
   ]
  },
  {
   "cell_type": "markdown",
   "metadata": {},
   "source": [
    "# 3. General Questions"
   ]
  },
  {
   "cell_type": "markdown",
   "metadata": {},
   "source": [
    "3a. In what kind of scenarios is each of the following distance functions preferred?\n",
    "\n",
    "Euclidean distance: The Euclidean distance or Euclidean metric is the \"ordinary\" distance between two points in Euclidean space. Euclidean is used for going the direct route to a point.\n",
    "\n",
    "Manhattan (city block) distance: The distance between two points in a grid based on a strictly horizontal and/or vertical path, as opposed to the diagonal distance. The Manhattan distance is the simple sum of the horizontal and vertical components.\n",
    "\n",
    "Jaccard distance: The Jaccard distance is a statistic used for comparing the similarity and diversity of sample sets. The Jaccard distance, which measures dissimilarity between sample sets, is complementary to the Jaccard coefficient and is obtained by subtracting the Jaccard coefficient from 1, or, equivalently, by dividing the difference of the sizes of the union and the intersection of two sets by the size of the union\n",
    "\n",
    "Cosine distance: Cosine similarity is a measure of similarity between two vectors of an inner product space that measures the cosine of the angle between them. The cosine of 0° is 1, and it is less than 1 for any other angle. Cosine distance is a term often used for the complement in positive space. \n",
    "\n",
    "*Answers from Wikipedia"
   ]
  },
  {
   "cell_type": "markdown",
   "metadata": {},
   "source": [
    "3b. List at least three methods for determining the number of clusters given a dataset. List the pros and cons for each method.\n",
    "\n",
    "The Elbow Method:\n",
    "\n",
    "Pro: The elbow method is a quick and easy test. If you plot the percentage of variance explained by the clusters against the number of clusters, the first clusters will explain a lot of variance, but at some point the marginal gain will drop, giving an angle in the graph. The number of clusters is chosen at this point.\n",
    "\n",
    "Con: The \"elbow\" cannot always be unambiguously/easily identified.\n",
    "\n",
    "\n",
    "Information Criterion Approach:\n",
    "\n",
    "Pro: Random (uniform) label assignments have a AMI score close to 0.0 for any value of n_clusters and n_samples. Bounded range [0, 1]: Values close to zero indicate two label assignments that are largely independent, while values close to one indicate significant agreement. Further, values of exactly 0 indicate purely independent label assignments and a AMI of exactly 1 indicates that the two label assignments are equal (with or without permutation).\n",
    "No assumption is made on the cluster structure: can be used to compare clustering algorithms such as k-means which assumes isotropic blob shapes with results of spectral clustering algorithms which can find cluster with “folded” shapes.\n",
    "\n",
    "Con: MI-based measures require the knowledge of the ground truth classes while almost never available in practice or requires manual assignment by human annotators (as in the supervised learning setting).\n",
    "\n",
    "\n",
    "The Silhouette Approach:\n",
    "\n",
    "Pro: The score is bounded between -1 for incorrect clustering and +1 for highly dense clustering. Scores around zero indicate overlapping clusters. The score is higher when clusters are dense and well separated, which relates to a standard concept of a cluster.\n",
    "\n",
    "Con: It is generally higher for convex clusters than other concepts of clusters, such as density based clusters like those obtained through DBSCAN.\n",
    "\n",
    "*Answers from Wikipedia"
   ]
  },
  {
   "cell_type": "code",
   "execution_count": null,
   "metadata": {
    "collapsed": true
   },
   "outputs": [],
   "source": []
  }
 ],
 "metadata": {
  "kernelspec": {
   "display_name": "Python 3",
   "language": "python",
   "name": "python3"
  },
  "language_info": {
   "codemirror_mode": {
    "name": "ipython",
    "version": 3
   },
   "file_extension": ".py",
   "mimetype": "text/x-python",
   "name": "python",
   "nbconvert_exporter": "python",
   "pygments_lexer": "ipython3",
   "version": "3.4.3"
  }
 },
 "nbformat": 4,
 "nbformat_minor": 0
}
